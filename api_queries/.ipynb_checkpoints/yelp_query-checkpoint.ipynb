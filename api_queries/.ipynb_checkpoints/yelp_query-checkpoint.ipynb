{
 "cells": [
  {
   "cell_type": "code",
   "execution_count": null,
   "metadata": {},
   "outputs": [],
   "source": [
    "# Yelp API example tutorial: https://python.gotrained.com/yelp-fusion-api-tutorial/"
   ]
  },
  {
   "cell_type": "code",
   "execution_count": 1,
   "metadata": {},
   "outputs": [],
   "source": [
    "import requests\n",
    "import json\n",
    "import numpy as np\n",
    "import pandas as pd"
   ]
  },
  {
   "cell_type": "code",
   "execution_count": 2,
   "metadata": {},
   "outputs": [
    {
     "data": {
      "text/html": [
       "<div>\n",
       "<style scoped>\n",
       "    .dataframe tbody tr th:only-of-type {\n",
       "        vertical-align: middle;\n",
       "    }\n",
       "\n",
       "    .dataframe tbody tr th {\n",
       "        vertical-align: top;\n",
       "    }\n",
       "\n",
       "    .dataframe thead th {\n",
       "        text-align: right;\n",
       "    }\n",
       "</style>\n",
       "<table border=\"1\" class=\"dataframe\">\n",
       "  <thead>\n",
       "    <tr style=\"text-align: right;\">\n",
       "      <th></th>\n",
       "      <th>OBJECTID</th>\n",
       "      <th>ZIPCODE</th>\n",
       "      <th>PO_NAME</th>\n",
       "      <th>POPULATION</th>\n",
       "      <th>COUNTY</th>\n",
       "      <th>CountBusinesses</th>\n",
       "      <th>Shape_Length</th>\n",
       "      <th>Shape_Area</th>\n",
       "      <th>Unnamed: 8</th>\n",
       "    </tr>\n",
       "  </thead>\n",
       "  <tbody>\n",
       "    <tr>\n",
       "      <th>0</th>\n",
       "      <td>108</td>\n",
       "      <td>11211</td>\n",
       "      <td>Brooklyn</td>\n",
       "      <td>60861</td>\n",
       "      <td>Kings</td>\n",
       "      <td>39.0</td>\n",
       "      <td>37891.73360</td>\n",
       "      <td>40470881.75</td>\n",
       "      <td>NaN</td>\n",
       "    </tr>\n",
       "    <tr>\n",
       "      <th>1</th>\n",
       "      <td>56</td>\n",
       "      <td>10002</td>\n",
       "      <td>New York</td>\n",
       "      <td>81305</td>\n",
       "      <td>New York</td>\n",
       "      <td>33.0</td>\n",
       "      <td>36484.41577</td>\n",
       "      <td>26280128.59</td>\n",
       "      <td>NaN</td>\n",
       "    </tr>\n",
       "    <tr>\n",
       "      <th>2</th>\n",
       "      <td>58</td>\n",
       "      <td>10009</td>\n",
       "      <td>New York</td>\n",
       "      <td>61455</td>\n",
       "      <td>New York</td>\n",
       "      <td>33.0</td>\n",
       "      <td>16247.12489</td>\n",
       "      <td>15903519.11</td>\n",
       "      <td>NaN</td>\n",
       "    </tr>\n",
       "    <tr>\n",
       "      <th>3</th>\n",
       "      <td>61</td>\n",
       "      <td>11237</td>\n",
       "      <td>Brooklyn</td>\n",
       "      <td>49335</td>\n",
       "      <td>Kings</td>\n",
       "      <td>29.0</td>\n",
       "      <td>30811.45106</td>\n",
       "      <td>27425868.86</td>\n",
       "      <td>NaN</td>\n",
       "    </tr>\n",
       "    <tr>\n",
       "      <th>4</th>\n",
       "      <td>55</td>\n",
       "      <td>11222</td>\n",
       "      <td>Brooklyn</td>\n",
       "      <td>36315</td>\n",
       "      <td>Kings</td>\n",
       "      <td>21.0</td>\n",
       "      <td>32110.57736</td>\n",
       "      <td>42825293.26</td>\n",
       "      <td>NaN</td>\n",
       "    </tr>\n",
       "  </tbody>\n",
       "</table>\n",
       "</div>"
      ],
      "text/plain": [
       "   OBJECTID  ZIPCODE   PO_NAME  POPULATION    COUNTY  CountBusinesses  \\\n",
       "0       108    11211  Brooklyn       60861     Kings             39.0   \n",
       "1        56    10002  New York       81305  New York             33.0   \n",
       "2        58    10009  New York       61455  New York             33.0   \n",
       "3        61    11237  Brooklyn       49335     Kings             29.0   \n",
       "4        55    11222  Brooklyn       36315     Kings             21.0   \n",
       "\n",
       "   Shape_Length   Shape_Area  Unnamed: 8  \n",
       "0   37891.73360  40470881.75         NaN  \n",
       "1   36484.41577  26280128.59         NaN  \n",
       "2   16247.12489  15903519.11         NaN  \n",
       "3   30811.45106  27425868.86         NaN  \n",
       "4   32110.57736  42825293.26         NaN  "
      ]
     },
     "execution_count": 2,
     "metadata": {},
     "output_type": "execute_result"
    }
   ],
   "source": [
    "# list of all nyc zipcodes, indicated by owners in survey\n",
    "# nycinfo = pd.DataFrame(pd.read_csv('/Users/andrewnorris/capstone_legaloccupancy/datasets/ZipCodes_CountOwners.csv'))\n",
    "# nycinfo.head()"
   ]
  },
  {
   "cell_type": "code",
   "execution_count": 3,
   "metadata": {},
   "outputs": [
    {
     "data": {
      "text/plain": [
       "Index(['OBJECTID', 'ZIPCODE', 'PO_NAME', 'POPULATION', 'COUNTY',\n",
       "       'CountBusinesses', 'Shape_Length', 'Shape_Area', 'Unnamed: 8'],\n",
       "      dtype='object')"
      ]
     },
     "execution_count": 3,
     "metadata": {},
     "output_type": "execute_result"
    }
   ],
   "source": [
    "#nycinfo.columns"
   ]
  },
  {
   "cell_type": "code",
   "execution_count": 4,
   "metadata": {},
   "outputs": [],
   "source": [
    "#astoriainfo = nycinfo[nycinfo['PO_NAME']=='Astoria']"
   ]
  },
  {
   "cell_type": "code",
   "execution_count": 5,
   "metadata": {},
   "outputs": [
    {
     "data": {
      "text/plain": [
       "[11105, 11103, 11106, 11102]"
      ]
     },
     "execution_count": 5,
     "metadata": {},
     "output_type": "execute_result"
    }
   ],
   "source": [
    "#astoriazips = list(astoriainfo['ZIPCODE'])\n",
    "#astoriazips"
   ]
  },
  {
   "cell_type": "code",
   "execution_count": 84,
   "metadata": {},
   "outputs": [],
   "source": [
    "api_key='MYTOKEN'"
   ]
  },
  {
   "cell_type": "code",
   "execution_count": 95,
   "metadata": {},
   "outputs": [],
   "source": [
    "url='https://api.yelp.com/v3/businesses/search'\n",
    "params={'term':'nightlife', 'location':'11105', 'limit': 50, 'offset':551}\n",
    "\n",
    "req = requests.get(url, params=params, headers=headers)\n",
    "parsed = json.loads(req.text)\n",
    "\n",
    "businesses = parsed[\"businesses\"]\n",
    "\n",
    "jsondata = []\n",
    "\n",
    "for business in businesses:\n",
    "    data = []\n",
    "    yelpid = business[\"id\"]\n",
    "    data.append(yelpid)\n",
    "    name = business[\"name\"]\n",
    "    data.append(name)\n",
    "    avg_rating = business[\"rating\"]\n",
    "    data.append(avg_rating)\n",
    "#     price = business['price']\n",
    "    address = business[\"location\"][\"display_address\"]\n",
    "    data.append(address)\n",
    "    coordinates = business['coordinates']\n",
    "    data.append(coordinates)\n",
    "    review_count = business['review_count']\n",
    "    data.append(review_count)\n",
    "    \n",
    "    url=\"https://api.yelp.com/v3/businesses/\" + yelpid + \"/reviews\"\n",
    "    req = requests.get(url, headers=headers)\n",
    "    parsed = json.loads(req.text)\n",
    "    reviews = parsed[\"reviews\"]\n",
    "    for review in reviews:\n",
    "        review_text = review[\"text\"]\n",
    "        data.append(review_text)\n",
    "    jsondata.append(data)\n",
    "\n",
    "#len(jsondata)\n",
    "    \n",
    "with open(\"11105_nightlife_11.json\", \"w\") as f:\n",
    "    json.dump(jsondata,f,indent=4,sort_keys=True)\n"
   ]
  },
  {
   "cell_type": "code",
   "execution_count": 10,
   "metadata": {},
   "outputs": [],
   "source": [
    "#parsed = json.loads(req.text)"
   ]
  },
  {
   "cell_type": "code",
   "execution_count": 11,
   "metadata": {},
   "outputs": [],
   "source": [
    "#print(json.dumps(parsed, indent=4))"
   ]
  },
  {
   "cell_type": "code",
   "execution_count": 18,
   "metadata": {},
   "outputs": [],
   "source": [
    "# businesses = parsed[\"businesses\"]\n",
    "\n",
    "# for business in businesses:\n",
    "#     print(\"Name:\", business[\"name\"])\n",
    "#     print(\"Rating:\", business[\"rating\"])\n",
    "#     print(\"Address:\", \" \".join(business[\"location\"][\"display_address\"]))\n",
    "#     print(\"Phone:\", business[\"phone\"])\n",
    "#     print(\"\\n\")\n"
   ]
  },
  {
   "cell_type": "code",
   "execution_count": 13,
   "metadata": {},
   "outputs": [],
   "source": [
    "# extract business reviews by ID\n",
    "# id = business[\"id\"]\n"
   ]
  },
  {
   "cell_type": "code",
   "execution_count": 14,
   "metadata": {},
   "outputs": [],
   "source": [
    "# url = \"https://api.yelp.com/v3/businesses/\" + id + \"/reviews\"\n",
    "# req = requests.get(url, headers=headers)\n",
    "# parsed = json.loads(req.text)\n"
   ]
  },
  {
   "cell_type": "code",
   "execution_count": 15,
   "metadata": {},
   "outputs": [],
   "source": [
    "# print(json.dumps(parsed, indent=4))"
   ]
  },
  {
   "cell_type": "code",
   "execution_count": 16,
   "metadata": {},
   "outputs": [],
   "source": [
    "# reviews = parsed[\"reviews\"]\n"
   ]
  },
  {
   "cell_type": "code",
   "execution_count": 17,
   "metadata": {},
   "outputs": [],
   "source": [
    "# for review in reviews:\n",
    "#     print(\"User:\", review[\"user\"][\"name\"], \"Rating:\", review[\"rating\"], \"Review:\", review[\"text\"], \"\\n\")\n"
   ]
  },
  {
   "cell_type": "code",
   "execution_count": 19,
   "metadata": {},
   "outputs": [],
   "source": [
    "# params = ['id','alias','name','is_closed','review_count','rating','price',\n",
    "#           'categories',         \n",
    "#           'coordinates',\n",
    "#           'location']"
   ]
  },
  {
   "cell_type": "code",
   "execution_count": 76,
   "metadata": {},
   "outputs": [],
   "source": [
    "# headers = {'Authorization': 'Bearer %s' % api_key}\n",
    "# url = 'https://api.yelp.com/v3/businesses/search'\n",
    "\n",
    "# #data = []\n",
    "# params = {'term': 'nightlift', 'location': 11105, 'limit': 50, 'offset': 1}\n",
    "# # categories = ['id','alias','name','is_closed','review_count','rating','price','categories',         \n",
    "# #           'coordinates',\n",
    "# #           'location']\n",
    "# req = requests.get(url, params=params, headers=headers)\n",
    "# parsed = json.loads(req.text)\n",
    "\n",
    "# with open(\"11105_nightlife_1.json\", \"w\") as f:\n",
    "#     json.dump(data,f,indent=4,sort_keys=True)\n",
    "\n",
    "# # businesses = parsed[\"businesses\"]\n",
    "\n",
    "# # data.append(businesses)\n",
    "\n",
    "# # for business in businesses:\n",
    "# #     for category in categories:\n",
    "# #         item = business[category]\n",
    "# #         data.append(item)\n",
    "\n",
    "\n",
    "        \n",
    "# #         data.append()\n",
    "# #         yelpid = business[\"id\"]\n",
    "# #         data.append(yelpid)\n",
    "# #         coordinates = business['coordinates']\n",
    "# #         data.append(coordinates)\n",
    "# #         address = business[\"location\"][\"display_address\"]\n",
    "\n",
    "# #         url=\"https://api.yelp.com/v3/businesses/\" + id + \"/reviews\"\n",
    "# #         req = requests.get(url, headers=headers)\n",
    "# #         parsed = json.loads(req.text)\n",
    "# #         reviews = parsed[\"reviews\"]\n",
    "# #         data.append(reviews)\n",
    "    \n",
    "# #     url2=\"https://api.yelp.com/v3/businesses/\" + yelpid + \"/reviews\"\n",
    "# #     req2 = requests.get(url2, headers=headers)\n",
    "# #     parsed2 = json.loads(req2.text)\n",
    "# #     reviews = parsed2[\"reviews\"]\n",
    "# #     for review in reviews:\n",
    "# #         user = review[\"user\"][\"name\"]\n",
    "# #         rating = review[\"rating\"]\n",
    "# #         text = review[\"text\"]\n",
    "# #         data.append(user)\n",
    "# #         data.append(rating)\n",
    "# #         data.append(text)\n",
    "   \n"
   ]
  },
  {
   "cell_type": "code",
   "execution_count": 96,
   "metadata": {},
   "outputs": [],
   "source": [
    "# def get_parsed_json_yelp_data(api_key, term, zipcode):\n",
    "#     \"\"\" This function requires: \n",
    "#         - Yelp API key\n",
    "#         - search term - e.g., \"nightlife\"\n",
    "#         - zipcode\n",
    "#         - offset - 1: 1 (0?), 2: 51, 3: 101, 4: 151, 5: 201, 6: 251, \n",
    "#                     7: 301, 8: 351, 9: 401, 10: 451, 11: 501, 12: 551,\n",
    "#                     13: 601, 14: 561, 15: 601 (TODO: IMPROVE THIS PARAMETER)\n",
    "#     \"\"\"\n",
    "    \n",
    "#     headers = {'Authorization': 'Bearer %s' % api_key}\n",
    "#     url = 'https://api.yelp.com/v3/businesses/search'\n",
    "#     #come back to this:  offset fn\n",
    "#     csvData = []\n",
    "#     for i in [1,51,101,151,201,251,301,351,401]:  \n",
    "#         pageData = []\n",
    "#         params = {'term': term, 'location': zipcode, 'limit': 50, 'offset': [i]}\n",
    "#         req = requests.get(url, params=params, headers=headers)\n",
    "#         parsed = json.loads(req.text)\n",
    "#         businesses = parsed[\"businesses\"]\n",
    "#         for business in businesses:\n",
    "#             data = []\n",
    "#             try:\n",
    "#                 yelpid = business[\"id\"]\n",
    "#                 data.append(yelpid)\n",
    "\n",
    "#                 lat = business[\"location\"]['coordinates']['latitude']\n",
    "#                 data.append(lat)\n",
    "\n",
    "#                 long = business[\"location\"]['coordinates']['longitude']\n",
    "#                 data.append(long)\n",
    "\n",
    "#                 url2=\"https://api.yelp.com/v3/businesses/\" + yelpid + \"/reviews\"\n",
    "#                 req2 = requests.get(url2, headers=headers)\n",
    "#                 parsed2 = json.loads(req2.text)\n",
    "\n",
    "#                 reviews = parsed2[\"reviews\"]\n",
    "\n",
    "#                 for review in reviews:\n",
    "#                     user = review[\"user\"][\"name\"]\n",
    "#                     rating = review[\"rating\"]\n",
    "#                     text = review[\"text\"]\n",
    "                \n",
    "#                 data.append(user)\n",
    "#                 data.append(rating)\n",
    "#                 data.append(text)\n",
    "\n",
    "#             except:\n",
    "#                 data.append('MISSING')  \n",
    "#             if ( len(data) != 0):\n",
    "#                 pageData.append(data)\n",
    "#         if ( len(pageData) != 0):\n",
    "#             csvData.append(pageData)\n",
    "#     return csvData\n"
   ]
  },
  {
   "cell_type": "code",
   "execution_count": 97,
   "metadata": {},
   "outputs": [],
   "source": [
    "# def get_parsed_json_yelp_data(api_key, term, zipcode, offset):\n",
    "#     \"\"\" This function requires: \n",
    "#         - Yelp API key\n",
    "#         - search term - e.g., \"nightlife\"\n",
    "#         - zipcode\n",
    "#         - offset - 1: 1 (0?), 2: 51, 3: 101, 4: 151, 5: 201, 6: 251, \n",
    "#                     7: 301, 8: 351, 9: 401, 10: 451, 11: 501, 12: 551,\n",
    "#                     13: 601, 14: 561, 15: 601 (TODO: IMPROVE THIS PARAMETER)\n",
    "#     \"\"\"\n",
    "#     headers = {'Authorization': 'Bearer %s' % api_key}\n",
    "#     url = 'https://api.yelp.com/v3/businesses/search'\n",
    "#     params = {'term': term, 'location': zipcode, 'limit': 50, 'offset': offset}\n",
    "#     req = requests.get(url, params=params, headers=headers)\n",
    "#     parsed = json.loads(req.text)\n",
    "#     businesses = parsed[\"businesses\"]\n",
    "#     return parsed"
   ]
  },
  {
   "cell_type": "code",
   "execution_count": 98,
   "metadata": {},
   "outputs": [],
   "source": [
    "# get_parsed_json_yelp_data(api_key, 'nightlife', 11105)"
   ]
  },
  {
   "cell_type": "code",
   "execution_count": 99,
   "metadata": {},
   "outputs": [],
   "source": [
    "# import requests\n",
    "# import json\n",
    "\n",
    "# api_key = 'copy_your_yelp_api_key_here'\n",
    "# headers = {'Authorization': 'Bearer %s' % api_key}\n",
    "\n",
    "# url = 'https://api.yelp.com/v3/businesses/search'\n",
    "# params = {'term':'bookstore','location':'New York City'}\n",
    "\n",
    "# req = requests.get(url, params=params, headers=headers)\n",
    "\n",
    "# parsed = json.loads(req.text)\n",
    "\n",
    "# businesses = parsed[\"businesses\"]\n",
    "\n",
    "# for business in businesses:\n",
    "#     print(\"Name:\", business[\"name\"])\n",
    "#     print(\"Rating:\", business[\"rating\"])\n",
    "#     print(\"Address:\", \" \".join(business[\"location\"][\"display_address\"]))\n",
    "#     print(\"Phone:\", business[\"phone\"])\n",
    "#     print(\"\\n\")\n",
    "\n",
    "#     id = business[\"id\"]\n",
    "\n",
    "#     url=\"https://api.yelp.com/v3/businesses/\" + id + \"/reviews\"\n",
    "\n",
    "#     req = requests.get(url, headers=headers)\n",
    "\n",
    "#     parsed = json.loads(req.text)\n",
    "\n",
    "#     reviews = parsed[\"reviews\"]\n",
    "\n",
    "#     print(\"--- Reviews ---\")\n",
    "\n",
    "#     for review in reviews:\n",
    "#         print(\"User:\", review[\"user\"][\"name\"], \"Rating:\", review[\"rating\"], \"Review:\", review[\"text\"], \"\\n\")\n"
   ]
  },
  {
   "cell_type": "code",
   "execution_count": 100,
   "metadata": {},
   "outputs": [],
   "source": [
    "# def parse_yelp_business_data(businesses, params):\n",
    "#     \"\"\" This function ...\n",
    "#     \"\"\"\n",
    "#     csvData = []\n",
    "#     for business in businesses: \n",
    "#         data = []\n",
    "#         for param in params: \n",
    "#             try:\n",
    "#                 if (param == 'coordinates'):\n",
    "#                     coordinates = business[param]\n",
    "#                     data.append(coordinates['latitude'])\n",
    "#                     data.append(coordinates['longitude'])\n",
    "#                 elif (param == 'location'):\n",
    "#                     location = business[param]\n",
    "#                     address = location['address1']\n",
    "#                     city = location['city']\n",
    "#                     zipcode = location['zip_code']\n",
    "#                     state = location['state']\n",
    "#                     country = location['country']\n",
    "#                     data.extend([address, city, zipcode, state, country])\n",
    "#                 elif (param == 'categories'):\n",
    "#                     categories = business[param]\n",
    "#                     cats = []\n",
    "#                     for category in categories:\n",
    "#                         cats.append(category['title'])\n",
    "#                     data.append(','.join([str(x) for x in cats]))\n",
    "#                 else:    \n",
    "#                     value = business[param]\n",
    "#                     data.append(value)\n",
    "#             except:\n",
    "#                 data.append('MISSING')\n",
    "#         if ( len(data) != 0):\n",
    "#             csvData.append(data)\n",
    "#     return csvData"
   ]
  },
  {
   "cell_type": "code",
   "execution_count": 101,
   "metadata": {},
   "outputs": [],
   "source": [
    "# def create_empty_csv_file(name, params): \n",
    "#     with open(name, 'w', newline='', encoding='utf-8') as csvFile:\n",
    "#         writer = csv.writer(csvFile)\n",
    "#         writer.writerows([params])\n",
    "#     csvFile.close()\n",
    "    \n",
    "# def append_to_csv_file(name, csvData):\n",
    "#     file_type = '.csv'\n",
    "#     with open(name + file_type, 'a', newline='', encoding='utf-8') as csvFile:\n",
    "#         writer = csv.writer(csvFile)\n",
    "#         try: \n",
    "#             writer.writerows(csvData)\n",
    "#         except Exception as e:\n",
    "#             print(csvData)\n",
    "#             print(e)\n",
    "#     csvFile.close()"
   ]
  },
  {
   "cell_type": "code",
   "execution_count": 102,
   "metadata": {},
   "outputs": [],
   "source": [
    "# create_empty_csv_file(name, params)\n",
    "# append_to_csv_file(name, csvData)"
   ]
  },
  {
   "cell_type": "code",
   "execution_count": 103,
   "metadata": {},
   "outputs": [],
   "source": [
    "# for business in businesses:\n",
    "#     print(\"Name:\", business[\"name\"])\n",
    "#     print(\"Rating:\", business[\"rating\"])\n",
    "#     print(\"Address:\", \" \".join(business[\"location\"][\"display_address\"]))\n",
    "#     print(\"Phone:\", business[\"phone\"])\n",
    "#     print(\"\\n\")\n",
    "\n",
    "#     id = business[\"id\"]\n",
    "\n",
    "#     url=\"https://api.yelp.com/v3/businesses/\" + id + \"/reviews\"\n",
    "\n",
    "#     req = requests.get(url, headers=headers)\n",
    "\n",
    "#     parsed = json.loads(req.text)\n",
    "\n",
    "#     reviews = parsed[\"reviews\"]\n",
    "\n",
    "#     print(\"--- Reviews ---\")\n",
    "\n",
    "#     for review in reviews:\n",
    "#         print(\"User:\", review[\"user\"][\"name\"], \"Rating:\", review[\"rating\"], \"Review:\", review[\"text\"], \"\\n\")"
   ]
  },
  {
   "cell_type": "code",
   "execution_count": 104,
   "metadata": {},
   "outputs": [],
   "source": [
    "# params = ['id','alias','name','is_closed','review_count','rating','price',\n",
    "#           'categories',         \n",
    "#           'coordinates',\n",
    "#           'location']"
   ]
  },
  {
   "cell_type": "code",
   "execution_count": null,
   "metadata": {},
   "outputs": [],
   "source": []
  },
  {
   "cell_type": "code",
   "execution_count": null,
   "metadata": {},
   "outputs": [],
   "source": []
  }
 ],
 "metadata": {
  "kernelspec": {
   "display_name": "Python 3",
   "language": "python",
   "name": "python3"
  },
  "language_info": {
   "codemirror_mode": {
    "name": "ipython",
    "version": 3
   },
   "file_extension": ".py",
   "mimetype": "text/x-python",
   "name": "python",
   "nbconvert_exporter": "python",
   "pygments_lexer": "ipython3",
   "version": "3.7.4"
  }
 },
 "nbformat": 4,
 "nbformat_minor": 2
}
