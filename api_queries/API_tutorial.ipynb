{
 "cells": [
  {
   "cell_type": "code",
   "execution_count": 1,
   "metadata": {},
   "outputs": [],
   "source": [
    "# # Load JSON: json_data\n",
    "# import json\n",
    "# with open(\"a_movie.json\") as json_file:\n",
    "#     json_data = json.load(json_file)\n",
    "\n",
    "# # Print each key-value pair in json_data\n",
    "# for k in json_data.keys():\n",
    "#     print(k + ': ', json_data[k] )\n",
    "# for key, value in json_data.items()\n",
    "    # print(key + ':', value)"
   ]
  },
  {
   "cell_type": "code",
   "execution_count": 2,
   "metadata": {},
   "outputs": [],
   "source": [
    "# import requests\n",
    "# url =   'http://www.omdbapi.com/?apikey=72bc447a&t=the+social+network' # return data for a moview with title (t) 'Hackers'\n",
    "# r = requests.get(url)\n",
    "# json_data = r.json()\n",
    "# for k in json_data.keys():\n",
    "#     print(k + ': ', json_data[k] )\n",
    "# print(r.text) # or could do this, not as a dict\n"
   ]
  },
  {
   "cell_type": "code",
   "execution_count": null,
   "metadata": {},
   "outputs": [],
   "source": [
    "# venue and/or event information\n",
    "# eventbrite"
   ]
  }
 ],
 "metadata": {
  "kernelspec": {
   "display_name": "Python 3",
   "language": "python",
   "name": "python3"
  },
  "language_info": {
   "codemirror_mode": {
    "name": "ipython",
    "version": 3
   },
   "file_extension": ".py",
   "mimetype": "text/x-python",
   "name": "python",
   "nbconvert_exporter": "python",
   "pygments_lexer": "ipython3",
   "version": "3.7.4"
  }
 },
 "nbformat": 4,
 "nbformat_minor": 2
}
