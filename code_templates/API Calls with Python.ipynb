{
 "cells": [
  {
   "cell_type": "markdown",
   "metadata": {},
   "source": [
    "# API Calls with Python\n",
    "\n",
    "\n",
    "----\n",
    "\n",
    "This notebook will provide you with an instruction on how to query APIs using Python. Upon completion of this notebook you will be able to make API requests that do not require authentication through keys using the `requests` library. It will lead you through all the steps necessary for a successful API call, understanding the responses and show you how to further process JSON files."
   ]
  },
  {
   "cell_type": "markdown",
   "metadata": {},
   "source": [
    "## Table of Contents\n",
    "* [Import all packages we need](#Import-all-packages-we-need)\n",
    "* [How the request package works](#How-the-request-package-works)\n",
    "* [JavaScript Object Notation](#JavaScript-Object-Notation)\n",
    "* [Querying the Patent API](#Querying-the-Patent-API)"
   ]
  },
  {
   "cell_type": "markdown",
   "metadata": {},
   "source": [
    "APIs are hosted on web servers. When you type www.google.com in your browser's address bar, your computer is actually asking the www.google.com server for a webpage, which it then returns to your browser.\n",
    "\n",
    "APIs work much the same way, except instead of your web browser asking for a webpage, your program asks for data. This data is usually returned in JSON format. In order to process json files we need to load the json package. \n",
    "\n",
    "To retrieve data, we make a request to a webserver. The server then replies with our data. In Python, we'll use the requests library to do this. Thus, we can retrieve APIs through http requests. "
   ]
  },
  {
   "cell_type": "markdown",
   "metadata": {},
   "source": [
    "## Import all packages we need"
   ]
  },
  {
   "cell_type": "code",
   "execution_count": 2,
   "metadata": {},
   "outputs": [],
   "source": [
    "# interacting with websites and web-APIs\n",
    "import requests # easy way to interact with web sites and services\n",
    "import json # read/write JavaScript Object Notation (JSON)\n",
    "\n",
    "# data manipulation\n",
    "import pandas as pd \n",
    "# normalize nested JSON files\n",
    "from pandas.io.json import json_normalize"
   ]
  },
  {
   "cell_type": "markdown",
   "metadata": {},
   "source": [
    "## How the request package works"
   ]
  },
  {
   "cell_type": "markdown",
   "metadata": {},
   "source": [
    "We first need to understand what all information can be accessed from the API. For that we use the example of the Citi Bike API to make the API call and check the information we get. We use the request function. To access the API response, we use the function call `requests.get(url).json()` which not only gets the response from the API for the url but also gets the JSON format for it. We then dump the data using `dump()` method into content so that we can view it in a more presentable view. In oder to tell Python what to access we need to specify the url of the API endpoint."
   ]
  },
  {
   "cell_type": "markdown",
   "metadata": {},
   "source": [
    "### Making a Request\n",
    "When you ping a website or portal for information this is called making a request. That is exactly what the requests library has been designed to do. There are many different types of requests. The most commonly used one, a GET request, is used to retrieve data.\n",
    "\n",
    "OpenNotify has several API endpoints. An endpoint is a server route that is used to retrieve different data from the API. You can see a listing of all the endpoints on OpenNotify here: http://open-notify.org/Open-Notify-API/"
   ]
  },
  {
   "cell_type": "code",
   "execution_count": 3,
   "metadata": {},
   "outputs": [],
   "source": [
    "r = requests.get(\"http://api.open-notify.org/iss-now.json\")"
   ]
  },
  {
   "cell_type": "markdown",
   "metadata": {},
   "source": [
    "### Get the Response Code\n",
    "Before you can do anything with a website or URL in Python, it’s a good idea to check the current status code of said portal. You can do this with the dictionary look-up object. If you access an API the documentation will tell you more about specific resppnse codes to expect. However, in general you can see this types:\n",
    "- 200: everything went okay, and the result has been returned (if any)\n",
    "- 301: the server is redirecting you to a different endpoint. This can happen when a company switches domain names, or an endpoint name is changed.\n",
    "- 401: the server thinks you're not authenticated. This happens when you don't send the right credentials to access an API.\n",
    "- 400: the server thinks you made a bad request. This can happen when you don't send along the right data, among other things.\n",
    "- 403: the resource you're trying to access is forbidden -- you don't have the right permissions to see it.\n",
    "- 404: the resource you tried to access wasn't found on the server."
   ]
  },
  {
   "cell_type": "code",
   "execution_count": 4,
   "metadata": {},
   "outputs": [
    {
     "data": {
      "text/plain": [
       "200"
      ]
     },
     "execution_count": 4,
     "metadata": {},
     "output_type": "execute_result"
    }
   ],
   "source": [
    "r.status_code"
   ]
  },
  {
   "cell_type": "markdown",
   "metadata": {},
   "source": [
    "### Get the Content\n",
    "After a web server returns a response, you can collect the content you need. This is also done using the get requests function."
   ]
  },
  {
   "cell_type": "code",
   "execution_count": 4,
   "metadata": {},
   "outputs": [
    {
     "name": "stdout",
     "output_type": "stream",
     "text": [
      "b'{\"iss_position\": {\"latitude\": \"-23.4012\", \"longitude\": \"-51.9494\"}, \"message\": \"success\", \"timestamp\": 1583506358}'\n"
     ]
    }
   ],
   "source": [
    "print(r.content)"
   ]
  },
  {
   "cell_type": "markdown",
   "metadata": {},
   "source": [
    "Some endpoints require specific parameters. Such as the iss-pass endpoint. So we first have to set up these parameters and then pass them into the request"
   ]
  },
  {
   "cell_type": "code",
   "execution_count": 5,
   "metadata": {},
   "outputs": [
    {
     "name": "stdout",
     "output_type": "stream",
     "text": [
      "b'{\\n  \"message\": \"success\", \\n  \"request\": {\\n    \"altitude\": 100, \\n    \"datetime\": 1583504352, \\n    \"latitude\": 40.71, \\n    \"longitude\": -74.0, \\n    \"passes\": 5\\n  }, \\n  \"response\": [\\n    {\\n      \"duration\": 167, \\n      \"risetime\": 1583505219\\n    }, \\n    {\\n      \"duration\": 528, \\n      \"risetime\": 1583553670\\n    }, \\n    {\\n      \"duration\": 653, \\n      \"risetime\": 1583559388\\n    }, \\n    {\\n      \"duration\": 599, \\n      \"risetime\": 1583565248\\n    }, \\n    {\\n      \"duration\": 562, \\n      \"risetime\": 1583571135\\n    }\\n  ]\\n}\\n'\n",
      "http://api.open-notify.org/iss-pass.json?lat=40.71&lon=-74\n"
     ]
    }
   ],
   "source": [
    "# Set up the parameters we want to pass to the API.\n",
    "# This is the latitude and longitude of New York City.\n",
    "parameters = {\"lat\": 40.71, \"lon\": -74}\n",
    "\n",
    "# Make a get request with the parameters.\n",
    "r = requests.get(\"http://api.open-notify.org/iss-pass.json\", params=parameters)\n",
    "\n",
    "# Print the content of the response (the data the server returned)\n",
    "print(r.content)\n",
    "print(r.url)"
   ]
  },
  {
   "cell_type": "code",
   "execution_count": 6,
   "metadata": {},
   "outputs": [
    {
     "name": "stdout",
     "output_type": "stream",
     "text": [
      "b'{\\n  \"message\": \"success\", \\n  \"request\": {\\n    \"altitude\": 100, \\n    \"datetime\": 1583504352, \\n    \"latitude\": 40.71, \\n    \"longitude\": -74.0, \\n    \"passes\": 5\\n  }, \\n  \"response\": [\\n    {\\n      \"duration\": 167, \\n      \"risetime\": 1583505219\\n    }, \\n    {\\n      \"duration\": 528, \\n      \"risetime\": 1583553670\\n    }, \\n    {\\n      \"duration\": 653, \\n      \"risetime\": 1583559388\\n    }, \\n    {\\n      \"duration\": 599, \\n      \"risetime\": 1583565248\\n    }, \\n    {\\n      \"duration\": 562, \\n      \"risetime\": 1583571135\\n    }\\n  ]\\n}\\n'\n"
     ]
    }
   ],
   "source": [
    "# This gets the same data as the command above\n",
    "# We can just include the parameters in the URL\n",
    "r2 = requests.get(\"http://api.open-notify.org/iss-pass.json?lat=40.71&lon=-74\")\n",
    "print(r2.content)"
   ]
  },
  {
   "cell_type": "markdown",
   "metadata": {},
   "source": [
    "## JavaScript Object Notation"
   ]
  },
  {
   "cell_type": "markdown",
   "metadata": {},
   "source": [
    "JSON is a way to encode data structures like lists and dictionaries to strings that ensures that they are easily readable by machines. JSON is the primary format in which data is passed back and forth to APIs, and most API servers will send their responses in JSON format.\n",
    "\n",
    "Python has great JSON support, with the json package. The json package is part of the standard library, so we don't have to install anything to use it. We can both convert lists and dictionaries to JSON, and convert strings to lists and dictionaries. In the case of our ISS Pass data, it is a dictionary encoded to a string in JSON format.\n",
    "\n",
    "The json library has two main methods:\n",
    "\n",
    "1. `dumps` -- Takes in a Python object, and converts it to a string.\n",
    "2. `loads` -- Takes a JSON string, and converts it to a Python object."
   ]
  },
  {
   "cell_type": "code",
   "execution_count": 7,
   "metadata": {},
   "outputs": [
    {
     "name": "stdout",
     "output_type": "stream",
     "text": [
      "<class 'dict'>\n",
      "{'message': 'success', 'request': {'altitude': 100, 'datetime': 1583504352, 'latitude': 40.71, 'longitude': -74.0, 'passes': 5}, 'response': [{'duration': 167, 'risetime': 1583505219}, {'duration': 528, 'risetime': 1583553670}, {'duration': 653, 'risetime': 1583559388}, {'duration': 599, 'risetime': 1583565248}, {'duration': 562, 'risetime': 1583571135}]}\n"
     ]
    }
   ],
   "source": [
    "# Same request, but returning a json file\n",
    "parameters = {\"lat\": 40.71, \"lon\": -74}\n",
    "r = requests.get(\"http://api.open-notify.org/iss-pass.json\", params=parameters)\n",
    "\n",
    "# Get the response data as a python object. Verify that it's a dictionary.\n",
    "data = r.json()\n",
    "print(type(data))\n",
    "print(data)"
   ]
  },
  {
   "cell_type": "code",
   "execution_count": 8,
   "metadata": {},
   "outputs": [
    {
     "name": "stdout",
     "output_type": "stream",
     "text": [
      "{'altitude': 100, 'datetime': 1583504352, 'latitude': 40.71, 'longitude': -74.0, 'passes': 5}\n",
      "5\n",
      "[{'duration': 167, 'risetime': 1583505219}, {'duration': 528, 'risetime': 1583553670}, {'duration': 653, 'risetime': 1583559388}, {'duration': 599, 'risetime': 1583565248}, {'duration': 562, 'risetime': 1583571135}]\n"
     ]
    }
   ],
   "source": [
    "# Now we can access specific cells in the dictionary\n",
    "print(data[\"request\"])\n",
    "print(data[\"request\"] ['passes'])\n",
    "print(data[\"response\"])"
   ]
  },
  {
   "cell_type": "code",
   "execution_count": 9,
   "metadata": {},
   "outputs": [
    {
     "data": {
      "text/html": [
       "<div>\n",
       "<style scoped>\n",
       "    .dataframe tbody tr th:only-of-type {\n",
       "        vertical-align: middle;\n",
       "    }\n",
       "\n",
       "    .dataframe tbody tr th {\n",
       "        vertical-align: top;\n",
       "    }\n",
       "\n",
       "    .dataframe thead th {\n",
       "        text-align: right;\n",
       "    }\n",
       "</style>\n",
       "<table border=\"1\" class=\"dataframe\">\n",
       "  <thead>\n",
       "    <tr style=\"text-align: right;\">\n",
       "      <th></th>\n",
       "      <th>duration</th>\n",
       "      <th>risetime</th>\n",
       "    </tr>\n",
       "  </thead>\n",
       "  <tbody>\n",
       "    <tr>\n",
       "      <th>0</th>\n",
       "      <td>167</td>\n",
       "      <td>1583505219</td>\n",
       "    </tr>\n",
       "    <tr>\n",
       "      <th>1</th>\n",
       "      <td>528</td>\n",
       "      <td>1583553670</td>\n",
       "    </tr>\n",
       "    <tr>\n",
       "      <th>2</th>\n",
       "      <td>653</td>\n",
       "      <td>1583559388</td>\n",
       "    </tr>\n",
       "    <tr>\n",
       "      <th>3</th>\n",
       "      <td>599</td>\n",
       "      <td>1583565248</td>\n",
       "    </tr>\n",
       "    <tr>\n",
       "      <th>4</th>\n",
       "      <td>562</td>\n",
       "      <td>1583571135</td>\n",
       "    </tr>\n",
       "  </tbody>\n",
       "</table>\n",
       "</div>"
      ],
      "text/plain": [
       "   duration    risetime\n",
       "0       167  1583505219\n",
       "1       528  1583553670\n",
       "2       653  1583559388\n",
       "3       599  1583565248\n",
       "4       562  1583571135"
      ]
     },
     "execution_count": 9,
     "metadata": {},
     "output_type": "execute_result"
    }
   ],
   "source": [
    "df = pd.DataFrame(data['response'])\n",
    "df"
   ]
  },
  {
   "cell_type": "markdown",
   "metadata": {},
   "source": [
    "## Querying the Patent API"
   ]
  },
  {
   "cell_type": "markdown",
   "metadata": {},
   "source": [
    "The PatentsView platform is built on data derived from the US Patent and Trademark Office (USPTO) to link inventors, their organizations, locations, and overall patenting activity. The PatentsView API provides programmatic access to longitudinal data and metadata on patents, inventors, companies, and geographic locations. \n",
    "\n",
    "To access the API, we use the `request` function. In oder to tell Python what to access we need to specify the url of the API endpoint.\n",
    "\n",
    "PatentsView has several API endpoints. An endpoint is a server route that is used to retrieve different data from the API. You can think of the endpoints as just specifying what types of data you want. An Example of a PatentsView API endpoint is: http://www.patentsview.org/api/doc.html\n",
    "\n",
    "Currently no key is necessary to access the PatentsView API. To make a request we need to provide a query URL according to the format defined by PatentsView. The details on how to do that is explained at this link: https://www.patentsview.org/api/query-language.html."
   ]
  },
  {
   "cell_type": "markdown",
   "metadata": {},
   "source": [
    "### Query String Format\n",
    "\n",
    "The query string is always a single JSON object: **{`<field>`:`<value>`}**, where `<field>` is the name of a database field and `<value>` is the value the field will be compared to for equality (Each API Endpoint section contains a list of the data fields that can be selected for inclusion in output datasets).\n",
    "\n",
    "We use the following base URL for the Patents Endpoint:\n",
    "\n",
    "**Base URL**: `http://www.patentsview.org/api/patents/query?q={criteria}`\n"
   ]
  },
  {
   "cell_type": "markdown",
   "metadata": {},
   "source": [
    "### First Query: Retrieve all patents for Stanford University\n",
    "\n",
    "In this example, we will only pull patents from one organization: Stanford University. Let's go to the Patents Endpoint (http://www.patentsview.org/api/patent.html) and find the appropriate field for the organization's name.\n",
    "\n",
    "The variable that we need is called `\"assignee_organization\"` (organization name, if assignee is organization)\n",
    "\n",
    "> _Note_: **Assignee**: the name of the entity - company, foundation, partnership, holding company or individual - that owns the patent. In this example we are looking at universities (organization-level)."
   ]
  },
  {
   "cell_type": "markdown",
   "metadata": {},
   "source": [
    "We will pull from the API using a step-by-step process:\n",
    "- build the query,\n",
    "- get the response,\n",
    "- check the response code,\n",
    "- get the content,\n",
    "- convert to table.\n",
    "\n",
    "By the end, we should have data about patents that we can work with using the tools we've already learned."
   ]
  },
  {
   "cell_type": "markdown",
   "metadata": {},
   "source": [
    "### Build the URL query \n",
    "\n",
    "Let's build our first URL query by combining the base url with one criterion (name of the `assignee_organization`)\n",
    "\n",
    "**base url**: `http://www.patentsview.org/api/patents/query?` + **criterion**: `q={\"assignee_organization\":\"stanford university\"}`"
   ]
  },
  {
   "cell_type": "code",
   "execution_count": 2,
   "metadata": {},
   "outputs": [],
   "source": [
    "# Save the URL in an object\n",
    "base_url = 'http://www.patentsview.org/api/patents/query?'"
   ]
  },
  {
   "cell_type": "code",
   "execution_count": null,
   "metadata": {},
   "outputs": [],
   "source": [
    "# Save the query criterion in an object\n",
    "criterion = 'q={assignee_organization\":\"stanford university\"}'"
   ]
  },
  {
   "cell_type": "code",
   "execution_count": 4,
   "metadata": {},
   "outputs": [],
   "source": [
    "option = '&o={\"matched_subentities_only\": \"false\"}'"
   ]
  },
  {
   "cell_type": "code",
   "execution_count": 5,
   "metadata": {},
   "outputs": [],
   "source": [
    "field = '&f=[\"assignee_organization\", \"patent_id\" , \"patent_number\", \"patent_title\"]'"
   ]
  },
  {
   "cell_type": "code",
   "execution_count": 6,
   "metadata": {},
   "outputs": [
    {
     "name": "stdout",
     "output_type": "stream",
     "text": [
      "http://www.patentsview.org/api/patents/query?\n",
      "q={\"assignee_organization\":\"stanford university\"}\n",
      "&o={\"matched_subentities_only\": \"false\"}\n"
     ]
    }
   ],
   "source": [
    "# we can check the entries\n",
    "print(base_url)\n",
    "print(criterion)\n",
    "print(option)"
   ]
  },
  {
   "cell_type": "code",
   "execution_count": 7,
   "metadata": {},
   "outputs": [
    {
     "name": "stdout",
     "output_type": "stream",
     "text": [
      "http://www.patentsview.org/api/patents/query?q={\"assignee_organization\":\"stanford university\"}&f=[\"assignee_organization\", \"patent_id\" , \"patent_number\", \"patent_title\"]&o={\"matched_subentities_only\": \"false\"}\n"
     ]
    }
   ],
   "source": [
    "# Combine the base URL with the criterion to create a finalized URL link\n",
    "url = base_url + criterion + field + option\n",
    "print(url)"
   ]
  },
  {
   "cell_type": "markdown",
   "metadata": {},
   "source": [
    "### Get the response and check the response code\n",
    "Now lets get the response using the URL defined above and the `requests` library. Checking the response code will help us to find out if the query was successful. The documentation of the response codes can be obtained from the description of the API. \n",
    "\n",
    "The following are the response codes for the PatentsView API:\n",
    "\n",
    "`200` - the query parameters are all valid; the results will be in the body of the response.\n",
    "\n",
    "`400` - the query parameters are not valid, typically either because they are not in valid JSON format, or a specified field or value is not valid; the “status reason” in the header will contain the error message.\n",
    "\n",
    "`500` -  there is an internal error with the processing of the query; the “status reason” in the header will contain the error message."
   ]
  },
  {
   "cell_type": "code",
   "execution_count": 8,
   "metadata": {},
   "outputs": [
    {
     "data": {
      "text/plain": [
       "200"
      ]
     },
     "execution_count": 8,
     "metadata": {},
     "output_type": "execute_result"
    }
   ],
   "source": [
    "# Get response from the URL.\n",
    "r = requests.get(url)\n",
    "r.status_code  # Check the status code"
   ]
  },
  {
   "cell_type": "markdown",
   "metadata": {},
   "source": [
    "### Get the content\n",
    "After a web server returns a response, you can collect the content you need by converting it into a JSON format. JSON is a way to encode data structures like lists and dictionaries to strings that ensures that they are easily readable by machines. JSON is the primary format in which data is passed back and forth to APIs, and most API servers will send their responses in JSON format."
   ]
  },
  {
   "cell_type": "code",
   "execution_count": 9,
   "metadata": {},
   "outputs": [],
   "source": [
    "# Convert response to JSON format\n",
    "response = r.json() "
   ]
  },
  {
   "cell_type": "markdown",
   "metadata": {},
   "source": [
    "By default, we get information on `patent_id`, `patent_number`, and `patent_title`. At the end of the JSON you will see how many results are returned (variable `count`) and the total number of patents found (variable `total_patent_count`)."
   ]
  },
  {
   "cell_type": "code",
   "execution_count": 10,
   "metadata": {},
   "outputs": [
    {
     "data": {
      "text/plain": [
       "{'patents': [{'patent_id': '4200770',\n",
       "   'patent_number': '4200770',\n",
       "   'patent_title': 'Cryptographic apparatus and method',\n",
       "   'assignees': [{'assignee_organization': 'Stanford University',\n",
       "     'assignee_key_id': '301180'}]},\n",
       "  {'patent_id': '4214918',\n",
       "   'patent_number': '4214918',\n",
       "   'patent_title': 'Method of forming polycrystalline semiconductor interconnections, resistors and contacts by applying radiation beam',\n",
       "   'assignees': [{'assignee_organization': 'Stanford University',\n",
       "     'assignee_key_id': '301180'}]},\n",
       "  {'patent_id': '4233671',\n",
       "   'patent_number': '4233671',\n",
       "   'patent_title': 'Read only memory and integrated circuit and method of programming by laser means',\n",
       "   'assignees': [{'assignee_organization': 'Stanford University',\n",
       "     'assignee_key_id': '301180'}]},\n",
       "  {'patent_id': '4234352',\n",
       "   'patent_number': '4234352',\n",
       "   'patent_title': 'Thermophotovoltaic converter and cell for use therein',\n",
       "   'assignees': [{'assignee_organization': 'Electric Power Research Institute, Inc.',\n",
       "     'assignee_key_id': '261116'},\n",
       "    {'assignee_organization': 'Stanford University',\n",
       "     'assignee_key_id': '301180'}]},\n",
       "  {'patent_id': '4325611',\n",
       "   'patent_number': '4325611',\n",
       "   'patent_title': 'Electrochromic material and electro-optical display using same',\n",
       "   'assignees': [{'assignee_organization': 'Stanford University',\n",
       "     'assignee_key_id': '301180'}]},\n",
       "  {'patent_id': '4379697',\n",
       "   'patent_number': '4379697',\n",
       "   'patent_title': 'Stimulator array',\n",
       "   'assignees': [{'assignee_organization': 'Stanford University',\n",
       "     'assignee_key_id': '301180'}]},\n",
       "  {'patent_id': '4380072',\n",
       "   'patent_number': '4380072',\n",
       "   'patent_title': 'XUV Laser and method',\n",
       "   'assignees': [{'assignee_organization': 'Stanford University',\n",
       "     'assignee_key_id': '301180'}]},\n",
       "  {'patent_id': '4404068',\n",
       "   'patent_number': '4404068',\n",
       "   'patent_title': 'Solid state method for synthesis reactions',\n",
       "   'assignees': [{'assignee_organization': 'Stanford University',\n",
       "     'assignee_key_id': '301180'}]},\n",
       "  {'patent_id': '4442206',\n",
       "   'patent_number': '4442206',\n",
       "   'patent_title': 'Method of using isotropic, porous-wall polymeric membrane, hollow-fibers for culture of microbes',\n",
       "   'assignees': [{'assignee_organization': 'Stanford University',\n",
       "     'assignee_key_id': '301180'}]},\n",
       "  {'patent_id': '4471647',\n",
       "   'patent_number': '4471647',\n",
       "   'patent_title': 'Gas chromatography system and detector and method',\n",
       "   'assignees': [{'assignee_organization': 'Stanford University',\n",
       "     'assignee_key_id': '301180'}]},\n",
       "  {'patent_id': '4491760',\n",
       "   'patent_number': '4491760',\n",
       "   'patent_title': 'Force sensing polymer piezoelectric transducer array',\n",
       "   'assignees': [{'assignee_organization': 'Stanford University',\n",
       "     'assignee_key_id': '301180'}]},\n",
       "  {'patent_id': '4503533',\n",
       "   'patent_number': '4503533',\n",
       "   'patent_title': 'Local area communication network utilizing a round robin access scheme with improved channel utilization',\n",
       "   'assignees': [{'assignee_organization': 'Stanford University',\n",
       "     'assignee_key_id': '301180'}]},\n",
       "  {'patent_id': '4662379',\n",
       "   'patent_number': '4662379',\n",
       "   'patent_title': 'Coronary artery imaging system using gated tomosynthesis',\n",
       "   'assignees': [{'assignee_organization': 'Stanford University',\n",
       "     'assignee_key_id': '301180'}]},\n",
       "  {'patent_id': '4665523',\n",
       "   'patent_number': '4665523',\n",
       "   'patent_title': 'Method and means for error detection and correction in high speed data transmission codes',\n",
       "   'assignees': [{'assignee_organization': 'Stanford University',\n",
       "     'assignee_key_id': '301180'}]},\n",
       "  {'patent_id': '4665610',\n",
       "   'patent_number': '4665610',\n",
       "   'patent_title': 'Method of making a semiconductor transducer having multiple level diaphragm structure',\n",
       "   'assignees': [{'assignee_organization': 'Stanford University',\n",
       "     'assignee_key_id': '301180'}]},\n",
       "  {'patent_id': '4666308',\n",
       "   'patent_number': '4666308',\n",
       "   'patent_title': 'Method and apparatus for non-destructive testing using acoustic-optic laser probe',\n",
       "   'assignees': [{'assignee_organization': 'Stanford University',\n",
       "     'assignee_key_id': '301180'}]},\n",
       "  {'patent_id': '4672319',\n",
       "   'patent_number': '4672319',\n",
       "   'patent_title': 'Multiple pulse excitation in NMR imaging',\n",
       "   'assignees': [{'assignee_organization': 'Stanford University',\n",
       "     'assignee_key_id': '301180'}]},\n",
       "  {'patent_id': '4674824',\n",
       "   'patent_number': '4674824',\n",
       "   'patent_title': 'System for enhancement of optical features',\n",
       "   'assignees': [{'assignee_organization': 'Stanford University',\n",
       "     'assignee_key_id': '301180'}]},\n",
       "  {'patent_id': '4681449',\n",
       "   'patent_number': '4681449',\n",
       "   'patent_title': 'High speed testing of electronic circuits by electro-optic sampling',\n",
       "   'assignees': [{'assignee_organization': 'Stanford University',\n",
       "     'assignee_key_id': '301180'}]},\n",
       "  {'patent_id': '4699513',\n",
       "   'patent_number': '4699513',\n",
       "   'patent_title': 'Distributed sensor and method using coherence multiplexing of fiber-optic interferometric sensors',\n",
       "   'assignees': [{'assignee_organization': 'Stanford University',\n",
       "     'assignee_key_id': '301180'}]},\n",
       "  {'patent_id': '4700150',\n",
       "   'patent_number': '4700150',\n",
       "   'patent_title': 'External laser frequency stabilizer',\n",
       "   'assignees': [{'assignee_organization': 'Stanford University',\n",
       "     'assignee_key_id': '301180'}]},\n",
       "  {'patent_id': '4701006',\n",
       "   'patent_number': '4701006',\n",
       "   'patent_title': 'Optical-digital hologram recording',\n",
       "   'assignees': [{'assignee_organization': 'Stanford University',\n",
       "     'assignee_key_id': '301180'}]},\n",
       "  {'patent_id': '4707136',\n",
       "   'patent_number': '4707136',\n",
       "   'patent_title': 'Gated fiber optic rotation sensor with linearized scale factor',\n",
       "   'assignees': [{'assignee_organization': 'Stanford University',\n",
       "     'assignee_key_id': '301180'}]},\n",
       "  {'patent_id': '4718424',\n",
       "   'patent_number': '4718424',\n",
       "   'patent_title': 'NMR imaging of blood flow by moment variation of magnetic gradients',\n",
       "   'assignees': [{'assignee_organization': 'Stanford University',\n",
       "     'assignee_key_id': '301180'}]},\n",
       "  {'patent_id': '4728192',\n",
       "   'patent_number': '4728192',\n",
       "   'patent_title': 'Gated fiber optic rotation sensor with extended dynamic range',\n",
       "   'assignees': [{'assignee_organization': 'Stanford University',\n",
       "     'assignee_key_id': '301180'}]}],\n",
       " 'count': 25,\n",
       " 'total_patent_count': 143}"
      ]
     },
     "execution_count": 10,
     "metadata": {},
     "output_type": "execute_result"
    }
   ],
   "source": [
    "# View JSON\n",
    "response"
   ]
  },
  {
   "cell_type": "markdown",
   "metadata": {},
   "source": [
    "The returned JSON file has a dictionary structure (dictionaries are identified by curly backets `{}`), which includes keys and values (e.g. in `patent_id`:`4200770`, `patent_id` is a key and `4200770` is a value of that key)."
   ]
  },
  {
   "cell_type": "code",
   "execution_count": 11,
   "metadata": {},
   "outputs": [
    {
     "data": {
      "text/plain": [
       "dict"
      ]
     },
     "execution_count": 11,
     "metadata": {},
     "output_type": "execute_result"
    }
   ],
   "source": [
    "# We can see this when we ask for the type\n",
    "type(response)"
   ]
  },
  {
   "cell_type": "markdown",
   "metadata": {},
   "source": [
    "We can check how many keys this JSON has by using `.keys()` function:"
   ]
  },
  {
   "cell_type": "code",
   "execution_count": 12,
   "metadata": {},
   "outputs": [
    {
     "data": {
      "text/plain": [
       "dict_keys(['patents', 'count', 'total_patent_count'])"
      ]
     },
     "execution_count": 12,
     "metadata": {},
     "output_type": "execute_result"
    }
   ],
   "source": [
    "response.keys()"
   ]
  },
  {
   "cell_type": "markdown",
   "metadata": {},
   "source": [
    "And we can find out how many values each key has:"
   ]
  },
  {
   "cell_type": "code",
   "execution_count": 13,
   "metadata": {},
   "outputs": [
    {
     "name": "stdout",
     "output_type": "stream",
     "text": [
      "25\n",
      "143\n",
      "[{'patent_id': '4200770', 'patent_number': '4200770', 'patent_title': 'Cryptographic apparatus and method', 'assignees': [{'assignee_organization': 'Stanford University', 'assignee_key_id': '301180'}]}, {'patent_id': '4214918', 'patent_number': '4214918', 'patent_title': 'Method of forming polycrystalline semiconductor interconnections, resistors and contacts by applying radiation beam', 'assignees': [{'assignee_organization': 'Stanford University', 'assignee_key_id': '301180'}]}, {'patent_id': '4233671', 'patent_number': '4233671', 'patent_title': 'Read only memory and integrated circuit and method of programming by laser means', 'assignees': [{'assignee_organization': 'Stanford University', 'assignee_key_id': '301180'}]}, {'patent_id': '4234352', 'patent_number': '4234352', 'patent_title': 'Thermophotovoltaic converter and cell for use therein', 'assignees': [{'assignee_organization': 'Electric Power Research Institute, Inc.', 'assignee_key_id': '261116'}, {'assignee_organization': 'Stanford University', 'assignee_key_id': '301180'}]}, {'patent_id': '4325611', 'patent_number': '4325611', 'patent_title': 'Electrochromic material and electro-optical display using same', 'assignees': [{'assignee_organization': 'Stanford University', 'assignee_key_id': '301180'}]}, {'patent_id': '4379697', 'patent_number': '4379697', 'patent_title': 'Stimulator array', 'assignees': [{'assignee_organization': 'Stanford University', 'assignee_key_id': '301180'}]}, {'patent_id': '4380072', 'patent_number': '4380072', 'patent_title': 'XUV Laser and method', 'assignees': [{'assignee_organization': 'Stanford University', 'assignee_key_id': '301180'}]}, {'patent_id': '4404068', 'patent_number': '4404068', 'patent_title': 'Solid state method for synthesis reactions', 'assignees': [{'assignee_organization': 'Stanford University', 'assignee_key_id': '301180'}]}, {'patent_id': '4442206', 'patent_number': '4442206', 'patent_title': 'Method of using isotropic, porous-wall polymeric membrane, hollow-fibers for culture of microbes', 'assignees': [{'assignee_organization': 'Stanford University', 'assignee_key_id': '301180'}]}, {'patent_id': '4471647', 'patent_number': '4471647', 'patent_title': 'Gas chromatography system and detector and method', 'assignees': [{'assignee_organization': 'Stanford University', 'assignee_key_id': '301180'}]}, {'patent_id': '4491760', 'patent_number': '4491760', 'patent_title': 'Force sensing polymer piezoelectric transducer array', 'assignees': [{'assignee_organization': 'Stanford University', 'assignee_key_id': '301180'}]}, {'patent_id': '4503533', 'patent_number': '4503533', 'patent_title': 'Local area communication network utilizing a round robin access scheme with improved channel utilization', 'assignees': [{'assignee_organization': 'Stanford University', 'assignee_key_id': '301180'}]}, {'patent_id': '4662379', 'patent_number': '4662379', 'patent_title': 'Coronary artery imaging system using gated tomosynthesis', 'assignees': [{'assignee_organization': 'Stanford University', 'assignee_key_id': '301180'}]}, {'patent_id': '4665523', 'patent_number': '4665523', 'patent_title': 'Method and means for error detection and correction in high speed data transmission codes', 'assignees': [{'assignee_organization': 'Stanford University', 'assignee_key_id': '301180'}]}, {'patent_id': '4665610', 'patent_number': '4665610', 'patent_title': 'Method of making a semiconductor transducer having multiple level diaphragm structure', 'assignees': [{'assignee_organization': 'Stanford University', 'assignee_key_id': '301180'}]}, {'patent_id': '4666308', 'patent_number': '4666308', 'patent_title': 'Method and apparatus for non-destructive testing using acoustic-optic laser probe', 'assignees': [{'assignee_organization': 'Stanford University', 'assignee_key_id': '301180'}]}, {'patent_id': '4672319', 'patent_number': '4672319', 'patent_title': 'Multiple pulse excitation in NMR imaging', 'assignees': [{'assignee_organization': 'Stanford University', 'assignee_key_id': '301180'}]}, {'patent_id': '4674824', 'patent_number': '4674824', 'patent_title': 'System for enhancement of optical features', 'assignees': [{'assignee_organization': 'Stanford University', 'assignee_key_id': '301180'}]}, {'patent_id': '4681449', 'patent_number': '4681449', 'patent_title': 'High speed testing of electronic circuits by electro-optic sampling', 'assignees': [{'assignee_organization': 'Stanford University', 'assignee_key_id': '301180'}]}, {'patent_id': '4699513', 'patent_number': '4699513', 'patent_title': 'Distributed sensor and method using coherence multiplexing of fiber-optic interferometric sensors', 'assignees': [{'assignee_organization': 'Stanford University', 'assignee_key_id': '301180'}]}, {'patent_id': '4700150', 'patent_number': '4700150', 'patent_title': 'External laser frequency stabilizer', 'assignees': [{'assignee_organization': 'Stanford University', 'assignee_key_id': '301180'}]}, {'patent_id': '4701006', 'patent_number': '4701006', 'patent_title': 'Optical-digital hologram recording', 'assignees': [{'assignee_organization': 'Stanford University', 'assignee_key_id': '301180'}]}, {'patent_id': '4707136', 'patent_number': '4707136', 'patent_title': 'Gated fiber optic rotation sensor with linearized scale factor', 'assignees': [{'assignee_organization': 'Stanford University', 'assignee_key_id': '301180'}]}, {'patent_id': '4718424', 'patent_number': '4718424', 'patent_title': 'NMR imaging of blood flow by moment variation of magnetic gradients', 'assignees': [{'assignee_organization': 'Stanford University', 'assignee_key_id': '301180'}]}, {'patent_id': '4728192', 'patent_number': '4728192', 'patent_title': 'Gated fiber optic rotation sensor with extended dynamic range', 'assignees': [{'assignee_organization': 'Stanford University', 'assignee_key_id': '301180'}]}]\n"
     ]
    }
   ],
   "source": [
    "# Print all the contents of our response\n",
    "print(response['count'])\n",
    "print(response['total_patent_count'])\n",
    "print(response['patents'])"
   ]
  },
  {
   "cell_type": "markdown",
   "metadata": {},
   "source": [
    "The `patents` key is interesting. It contains not just a single value, but a list of values (lists are identified by square brackets `[]`). This shows us that dictionaries also can be hierarchical, or nested: the level `patents` contains a list with multiple elements in it."
   ]
  },
  {
   "cell_type": "markdown",
   "metadata": {},
   "source": [
    "The key `patents` contains 25 elements, or, as we can see, mini-dictionaries (identified by the curly brackets `{}`), with their own keys and values. Every element in a list is a patent with its ID, number, and title. Every patent's information can be accessed by calling:"
   ]
  },
  {
   "cell_type": "code",
   "execution_count": 14,
   "metadata": {},
   "outputs": [
    {
     "data": {
      "text/plain": [
       "{'patent_id': '4200770',\n",
       " 'patent_number': '4200770',\n",
       " 'patent_title': 'Cryptographic apparatus and method',\n",
       " 'assignees': [{'assignee_organization': 'Stanford University',\n",
       "   'assignee_key_id': '301180'}]}"
      ]
     },
     "execution_count": 14,
     "metadata": {},
     "output_type": "execute_result"
    }
   ],
   "source": [
    "# Show the first patent only\n",
    "response['patents'][0]  "
   ]
  },
  {
   "cell_type": "code",
   "execution_count": 15,
   "metadata": {},
   "outputs": [
    {
     "data": {
      "text/plain": [
       "[{'patent_id': '4200770',\n",
       "  'patent_number': '4200770',\n",
       "  'patent_title': 'Cryptographic apparatus and method',\n",
       "  'assignees': [{'assignee_organization': 'Stanford University',\n",
       "    'assignee_key_id': '301180'}]},\n",
       " {'patent_id': '4214918',\n",
       "  'patent_number': '4214918',\n",
       "  'patent_title': 'Method of forming polycrystalline semiconductor interconnections, resistors and contacts by applying radiation beam',\n",
       "  'assignees': [{'assignee_organization': 'Stanford University',\n",
       "    'assignee_key_id': '301180'}]},\n",
       " {'patent_id': '4233671',\n",
       "  'patent_number': '4233671',\n",
       "  'patent_title': 'Read only memory and integrated circuit and method of programming by laser means',\n",
       "  'assignees': [{'assignee_organization': 'Stanford University',\n",
       "    'assignee_key_id': '301180'}]}]"
      ]
     },
     "execution_count": 15,
     "metadata": {},
     "output_type": "execute_result"
    }
   ],
   "source": [
    "# Show the first 3 patents\n",
    "response['patents'][0:3] "
   ]
  },
  {
   "cell_type": "markdown",
   "metadata": {},
   "source": [
    "### Convert to a dataframe\n",
    "We can convert JSON information on patents into a table format very easily. "
   ]
  },
  {
   "cell_type": "code",
   "execution_count": 16,
   "metadata": {},
   "outputs": [
    {
     "data": {
      "text/html": [
       "<div>\n",
       "<style scoped>\n",
       "    .dataframe tbody tr th:only-of-type {\n",
       "        vertical-align: middle;\n",
       "    }\n",
       "\n",
       "    .dataframe tbody tr th {\n",
       "        vertical-align: top;\n",
       "    }\n",
       "\n",
       "    .dataframe thead th {\n",
       "        text-align: right;\n",
       "    }\n",
       "</style>\n",
       "<table border=\"1\" class=\"dataframe\">\n",
       "  <thead>\n",
       "    <tr style=\"text-align: right;\">\n",
       "      <th></th>\n",
       "      <th>patent_id</th>\n",
       "      <th>patent_number</th>\n",
       "      <th>patent_title</th>\n",
       "      <th>assignees</th>\n",
       "    </tr>\n",
       "  </thead>\n",
       "  <tbody>\n",
       "    <tr>\n",
       "      <th>0</th>\n",
       "      <td>4200770</td>\n",
       "      <td>4200770</td>\n",
       "      <td>Cryptographic apparatus and method</td>\n",
       "      <td>[{'assignee_organization': 'Stanford Universit...</td>\n",
       "    </tr>\n",
       "    <tr>\n",
       "      <th>1</th>\n",
       "      <td>4214918</td>\n",
       "      <td>4214918</td>\n",
       "      <td>Method of forming polycrystalline semiconducto...</td>\n",
       "      <td>[{'assignee_organization': 'Stanford Universit...</td>\n",
       "    </tr>\n",
       "    <tr>\n",
       "      <th>2</th>\n",
       "      <td>4233671</td>\n",
       "      <td>4233671</td>\n",
       "      <td>Read only memory and integrated circuit and me...</td>\n",
       "      <td>[{'assignee_organization': 'Stanford Universit...</td>\n",
       "    </tr>\n",
       "    <tr>\n",
       "      <th>3</th>\n",
       "      <td>4234352</td>\n",
       "      <td>4234352</td>\n",
       "      <td>Thermophotovoltaic converter and cell for use ...</td>\n",
       "      <td>[{'assignee_organization': 'Electric Power Res...</td>\n",
       "    </tr>\n",
       "    <tr>\n",
       "      <th>4</th>\n",
       "      <td>4325611</td>\n",
       "      <td>4325611</td>\n",
       "      <td>Electrochromic material and electro-optical di...</td>\n",
       "      <td>[{'assignee_organization': 'Stanford Universit...</td>\n",
       "    </tr>\n",
       "  </tbody>\n",
       "</table>\n",
       "</div>"
      ],
      "text/plain": [
       "  patent_id patent_number                                       patent_title  \\\n",
       "0   4200770       4200770                 Cryptographic apparatus and method   \n",
       "1   4214918       4214918  Method of forming polycrystalline semiconducto...   \n",
       "2   4233671       4233671  Read only memory and integrated circuit and me...   \n",
       "3   4234352       4234352  Thermophotovoltaic converter and cell for use ...   \n",
       "4   4325611       4325611  Electrochromic material and electro-optical di...   \n",
       "\n",
       "                                           assignees  \n",
       "0  [{'assignee_organization': 'Stanford Universit...  \n",
       "1  [{'assignee_organization': 'Stanford Universit...  \n",
       "2  [{'assignee_organization': 'Stanford Universit...  \n",
       "3  [{'assignee_organization': 'Electric Power Res...  \n",
       "4  [{'assignee_organization': 'Stanford Universit...  "
      ]
     },
     "execution_count": 16,
     "metadata": {},
     "output_type": "execute_result"
    }
   ],
   "source": [
    "# Convert to pandas dataframe\n",
    "stanford = pd.DataFrame(response['patents'])  \n",
    "stanford.head()"
   ]
  },
  {
   "cell_type": "markdown",
   "metadata": {},
   "source": [
    "### Adding more fields to the query"
   ]
  },
  {
   "cell_type": "code",
   "execution_count": 17,
   "metadata": {},
   "outputs": [
    {
     "data": {
      "text/html": [
       "<div>\n",
       "<style scoped>\n",
       "    .dataframe tbody tr th:only-of-type {\n",
       "        vertical-align: middle;\n",
       "    }\n",
       "\n",
       "    .dataframe tbody tr th {\n",
       "        vertical-align: top;\n",
       "    }\n",
       "\n",
       "    .dataframe thead th {\n",
       "        text-align: right;\n",
       "    }\n",
       "</style>\n",
       "<table border=\"1\" class=\"dataframe\">\n",
       "  <thead>\n",
       "    <tr style=\"text-align: right;\">\n",
       "      <th></th>\n",
       "      <th>assignee_organization</th>\n",
       "      <th>assignee_key_id</th>\n",
       "      <th>patent_id</th>\n",
       "      <th>patent_title</th>\n",
       "      <th>patent_number</th>\n",
       "    </tr>\n",
       "  </thead>\n",
       "  <tbody>\n",
       "    <tr>\n",
       "      <th>0</th>\n",
       "      <td>Stanford University</td>\n",
       "      <td>301180</td>\n",
       "      <td>4200770</td>\n",
       "      <td>Cryptographic apparatus and method</td>\n",
       "      <td>4200770</td>\n",
       "    </tr>\n",
       "    <tr>\n",
       "      <th>1</th>\n",
       "      <td>Stanford University</td>\n",
       "      <td>301180</td>\n",
       "      <td>4214918</td>\n",
       "      <td>Method of forming polycrystalline semiconducto...</td>\n",
       "      <td>4214918</td>\n",
       "    </tr>\n",
       "    <tr>\n",
       "      <th>2</th>\n",
       "      <td>Stanford University</td>\n",
       "      <td>301180</td>\n",
       "      <td>4233671</td>\n",
       "      <td>Read only memory and integrated circuit and me...</td>\n",
       "      <td>4233671</td>\n",
       "    </tr>\n",
       "    <tr>\n",
       "      <th>3</th>\n",
       "      <td>Electric Power Research Institute, Inc.</td>\n",
       "      <td>261116</td>\n",
       "      <td>4234352</td>\n",
       "      <td>Thermophotovoltaic converter and cell for use ...</td>\n",
       "      <td>4234352</td>\n",
       "    </tr>\n",
       "    <tr>\n",
       "      <th>4</th>\n",
       "      <td>Stanford University</td>\n",
       "      <td>301180</td>\n",
       "      <td>4234352</td>\n",
       "      <td>Thermophotovoltaic converter and cell for use ...</td>\n",
       "      <td>4234352</td>\n",
       "    </tr>\n",
       "  </tbody>\n",
       "</table>\n",
       "</div>"
      ],
      "text/plain": [
       "                     assignee_organization assignee_key_id patent_id  \\\n",
       "0                      Stanford University          301180   4200770   \n",
       "1                      Stanford University          301180   4214918   \n",
       "2                      Stanford University          301180   4233671   \n",
       "3  Electric Power Research Institute, Inc.          261116   4234352   \n",
       "4                      Stanford University          301180   4234352   \n",
       "\n",
       "                                        patent_title patent_number  \n",
       "0                 Cryptographic apparatus and method       4200770  \n",
       "1  Method of forming polycrystalline semiconducto...       4214918  \n",
       "2  Read only memory and integrated circuit and me...       4233671  \n",
       "3  Thermophotovoltaic converter and cell for use ...       4234352  \n",
       "4  Thermophotovoltaic converter and cell for use ...       4234352  "
      ]
     },
     "execution_count": 17,
     "metadata": {},
     "output_type": "execute_result"
    }
   ],
   "source": [
    "json_normalize(response['patents'], record_path='assignees', meta=['patent_id','patent_title', 'patent_number']).head()"
   ]
  },
  {
   "cell_type": "markdown",
   "metadata": {},
   "source": [
    "Above we were able to pull data with the default information on the patents (`patent_id`, `patent_number`, `patent_title`). \n",
    "\n",
    "It might be useful to know additional information on patents, such as patent classification and application date.\n",
    "\n",
    "Let's look for those variables in the API Endpoint (http://www.patentsview.org/api/patent.html), and add those fields to our query.\n",
    "\n",
    "We will use the USPC classification (United States Patent Classification) variable called `uspc_mainclass_title`.\n",
    "\n",
    "The application date varible is called `app_date`.\n",
    "\n",
    "To the URL created above, we will add the fields parameter: `&f=[\"patent_id\", \"patent_title\",\"uspc_mainclass_title\",\"app_date\"]`."
   ]
  },
  {
   "cell_type": "code",
   "execution_count": 18,
   "metadata": {},
   "outputs": [
    {
     "name": "stdout",
     "output_type": "stream",
     "text": [
      "http://www.patentsview.org/api/patents/query?q={\"assignee_organization\":\"stanford university\"}&f=[\"assignee_organization\", \"patent_id\" , \"patent_number\", \"patent_title\"]&o={\"matched_subentities_only\": \"false\"}&f=[\"patent_id\", \"patent_title\",\"uspc_mainclass_title\",\"app_date\"]\n"
     ]
    }
   ],
   "source": [
    "url_fields = url + '&f=[\"patent_id\", \"patent_title\",\"uspc_mainclass_title\",\"app_date\"]'\n",
    "print(url_fields)"
   ]
  },
  {
   "cell_type": "code",
   "execution_count": 19,
   "metadata": {},
   "outputs": [
    {
     "data": {
      "text/plain": [
       "{'patents': [{'patent_id': '4200770',\n",
       "   'patent_title': 'Cryptographic apparatus and method',\n",
       "   'applications': [{'app_date': '1977-09-06', 'app_id': '05/830754'}],\n",
       "   'uspcs': [{'uspc_mainclass_title': 'Cryptography'},\n",
       "    {'uspc_mainclass_title': 'Electrical computers and digital processing systems:  support'}]},\n",
       "  {'patent_id': '4214918',\n",
       "   'patent_title': 'Method of forming polycrystalline semiconductor interconnections, resistors and contacts by applying radiation beam',\n",
       "   'applications': [{'app_date': '1978-10-12', 'app_id': '05/950828'}],\n",
       "   'uspcs': [{'uspc_mainclass_title': 'Metal treatment'},\n",
       "    {'uspc_mainclass_title': 'Electric heating'},\n",
       "    {'uspc_mainclass_title': 'Active solid-state devices (e.g., transistors, solid-state diodes)'},\n",
       "    {'uspc_mainclass_title': 'Coating processes'},\n",
       "    {'uspc_mainclass_title': 'Semiconductor device manufacturing: process'}]},\n",
       "  {'patent_id': '4233671',\n",
       "   'patent_title': 'Read only memory and integrated circuit and method of programming by laser means',\n",
       "   'applications': [{'app_date': '1979-01-05', 'app_id': '06/001360'}],\n",
       "   'uspcs': [{'uspc_mainclass_title': 'Active solid-state devices (e.g., transistors, solid-state diodes)'},\n",
       "    {'uspc_mainclass_title': 'Miscellaneous active electrical nonlinear devices, circuits, and systems'},\n",
       "    {'uspc_mainclass_title': 'Static information storage and retrieval'},\n",
       "    {'uspc_mainclass_title': 'Semiconductor device manufacturing: process'}]},\n",
       "  {'patent_id': '4234352',\n",
       "   'patent_title': 'Thermophotovoltaic converter and cell for use therein',\n",
       "   'applications': [{'app_date': '1978-07-26', 'app_id': '05/928103'}],\n",
       "   'uspcs': [{'uspc_mainclass_title': 'Batteries:  thermoelectric and photoelectric'},\n",
       "    {'uspc_mainclass_title': 'Active solid-state devices (e.g., transistors, solid-state diodes)'}]},\n",
       "  {'patent_id': '4325611',\n",
       "   'patent_title': 'Electrochromic material and electro-optical display using same',\n",
       "   'applications': [{'app_date': '1979-12-26', 'app_id': '06/106547'}],\n",
       "   'uspcs': [{'uspc_mainclass_title': 'Compositions'},\n",
       "    {'uspc_mainclass_title': 'Optical: systems and elements'}]},\n",
       "  {'patent_id': '4379697',\n",
       "   'patent_title': 'Stimulator array',\n",
       "   'applications': [{'app_date': '1981-10-16', 'app_id': '06/312094'}],\n",
       "   'uspcs': [{'uspc_mainclass_title': 'Communications:  electrical'},\n",
       "    {'uspc_mainclass_title': 'Education and demonstration'}]},\n",
       "  {'patent_id': '4380072',\n",
       "   'patent_title': 'XUV Laser and method',\n",
       "   'applications': [{'app_date': '1980-12-22', 'app_id': '06/218781'}],\n",
       "   'uspcs': [{'uspc_mainclass_title': 'Coherent light generators'}]},\n",
       "  {'patent_id': '4404068',\n",
       "   'patent_title': 'Solid state method for synthesis reactions',\n",
       "   'applications': [{'app_date': '1981-04-29', 'app_id': '06/258656'}],\n",
       "   'uspcs': [{'uspc_mainclass_title': 'Chemistry:  electrical and wave energy'},\n",
       "    {'uspc_mainclass_title': 'Electrolysis:  processes, compositions used therein, and methods of preparing the compositions'},\n",
       "    {'uspc_mainclass_title': 'Chemistry of hydrocarbon compounds'}]},\n",
       "  {'patent_id': '4442206',\n",
       "   'patent_title': 'Method of using isotropic, porous-wall polymeric membrane, hollow-fibers for culture of microbes',\n",
       "   'applications': [{'app_date': '1983-05-04', 'app_id': '06/489609'}],\n",
       "   'uspcs': [{'uspc_mainclass_title': 'Chemistry: molecular biology and microbiology'},\n",
       "    {'uspc_mainclass_title': 'Chemistry:  natural resins or derivatives; peptides or proteins; lignins or reaction products thereof'}]},\n",
       "  {'patent_id': '4471647',\n",
       "   'patent_title': 'Gas chromatography system and detector and method',\n",
       "   'applications': [{'app_date': '1982-03-22', 'app_id': '06/360414'}],\n",
       "   'uspcs': [{'uspc_mainclass_title': 'Electrical resistors'},\n",
       "    {'uspc_mainclass_title': 'Thermal measuring and testing'},\n",
       "    {'uspc_mainclass_title': 'Measuring and testing'}]},\n",
       "  {'patent_id': '4491760',\n",
       "   'patent_title': 'Force sensing polymer piezoelectric transducer array',\n",
       "   'applications': [{'app_date': '1983-03-29', 'app_id': '06/480025'}],\n",
       "   'uspcs': [{'uspc_mainclass_title': 'Electrical generator or motor structure'},\n",
       "    {'uspc_mainclass_title': 'Measuring and testing'}]},\n",
       "  {'patent_id': '4503533',\n",
       "   'patent_title': 'Local area communication network utilizing a round robin access scheme with improved channel utilization',\n",
       "   'applications': [{'app_date': '1981-08-20', 'app_id': '06/294745'}],\n",
       "   'uspcs': [{'uspc_mainclass_title': 'Multiplex communications'}]},\n",
       "  {'patent_id': '4662379',\n",
       "   'patent_title': 'Coronary artery imaging system using gated tomosynthesis',\n",
       "   'applications': [{'app_date': '1986-08-27', 'app_id': '06/902086'}],\n",
       "   'uspcs': [{'uspc_mainclass_title': 'Television'},\n",
       "    {'uspc_mainclass_title': 'X-ray or gamma ray systems or devices'},\n",
       "    {'uspc_mainclass_title': 'Surgery'}]},\n",
       "  {'patent_id': '4665523',\n",
       "   'patent_title': 'Method and means for error detection and correction in high speed data transmission codes',\n",
       "   'applications': [{'app_date': '1984-02-15', 'app_id': '06/580470'}],\n",
       "   'uspcs': [{'uspc_mainclass_title': 'Error detection/correction and fault detection/recovery'}]},\n",
       "  {'patent_id': '4665610',\n",
       "   'patent_title': 'Method of making a semiconductor transducer having multiple level diaphragm structure',\n",
       "   'applications': [{'app_date': '1985-04-22', 'app_id': '06/725984'}],\n",
       "   'uspcs': [{'uspc_mainclass_title': 'Metal treatment'},\n",
       "    {'uspc_mainclass_title': 'Active solid-state devices (e.g., transistors, solid-state diodes)'},\n",
       "    {'uspc_mainclass_title': 'Semiconductor device manufacturing: process'},\n",
       "    {'uspc_mainclass_title': 'Measuring and testing'}]},\n",
       "  {'patent_id': '4666308',\n",
       "   'patent_title': 'Method and apparatus for non-destructive testing using acoustic-optic laser probe',\n",
       "   'applications': [{'app_date': '1984-10-30', 'app_id': '06/666354'}],\n",
       "   'uspcs': [{'uspc_mainclass_title': 'Optics:  measuring and testing'},\n",
       "    {'uspc_mainclass_title': 'Optical: systems and elements'}]},\n",
       "  {'patent_id': '4672319',\n",
       "   'patent_title': 'Multiple pulse excitation in NMR imaging',\n",
       "   'applications': [{'app_date': '1984-09-19', 'app_id': '06/652139'}],\n",
       "   'uspcs': [{'uspc_mainclass_title': 'Electricity:  measuring and testing'}]},\n",
       "  {'patent_id': '4674824',\n",
       "   'patent_title': 'System for enhancement of optical features',\n",
       "   'applications': [{'app_date': '1985-06-14', 'app_id': '06/745312'}],\n",
       "   'uspcs': [{'uspc_mainclass_title': 'Optical: systems and elements'}]},\n",
       "  {'patent_id': '4681449',\n",
       "   'patent_title': 'High speed testing of electronic circuits by electro-optic sampling',\n",
       "   'applications': [{'app_date': '1984-09-07', 'app_id': '06/648456'}],\n",
       "   'uspcs': [{'uspc_mainclass_title': 'Electricity:  measuring and testing'},\n",
       "    {'uspc_mainclass_title': 'Optics:  measuring and testing'}]},\n",
       "  {'patent_id': '4699513',\n",
       "   'patent_title': 'Distributed sensor and method using coherence multiplexing of fiber-optic interferometric sensors',\n",
       "   'applications': [{'app_date': '1985-05-28', 'app_id': '06/738678'}],\n",
       "   'uspcs': [{'uspc_mainclass_title': 'Radiant energy'},\n",
       "    {'uspc_mainclass_title': 'Optics:  measuring and testing'},\n",
       "    {'uspc_mainclass_title': 'Electronic funds transfer'}]},\n",
       "  {'patent_id': '4700150',\n",
       "   'patent_title': 'External laser frequency stabilizer',\n",
       "   'applications': [{'app_date': '1985-06-14', 'app_id': '06/745309'}],\n",
       "   'uspcs': [{'uspc_mainclass_title': 'Optical: systems and elements'},\n",
       "    {'uspc_mainclass_title': 'Coherent light generators'}]},\n",
       "  {'patent_id': '4701006',\n",
       "   'patent_title': 'Optical-digital hologram recording',\n",
       "   'applications': [{'app_date': '1985-02-20', 'app_id': '06/703521'}],\n",
       "   'uspcs': [{'uspc_mainclass_title': 'Optical: systems and elements'}]},\n",
       "  {'patent_id': '4707136',\n",
       "   'patent_title': 'Gated fiber optic rotation sensor with linearized scale factor',\n",
       "   'applications': [{'app_date': '1984-02-17', 'app_id': '06/581303'}],\n",
       "   'uspcs': [{'uspc_mainclass_title': 'Optics:  measuring and testing'}]},\n",
       "  {'patent_id': '4718424',\n",
       "   'patent_title': 'NMR imaging of blood flow by moment variation of magnetic gradients',\n",
       "   'applications': [{'app_date': '1986-08-07', 'app_id': '06/894318'}],\n",
       "   'uspcs': [{'uspc_mainclass_title': 'Electricity:  measuring and testing'},\n",
       "    {'uspc_mainclass_title': 'Surgery'}]},\n",
       "  {'patent_id': '4728192',\n",
       "   'patent_title': 'Gated fiber optic rotation sensor with extended dynamic range',\n",
       "   'applications': [{'app_date': '1984-02-17', 'app_id': '06/581304'}],\n",
       "   'uspcs': [{'uspc_mainclass_title': 'Optics:  measuring and testing'}]}],\n",
       " 'count': 25,\n",
       " 'total_patent_count': 143}"
      ]
     },
     "execution_count": 19,
     "metadata": {},
     "output_type": "execute_result"
    }
   ],
   "source": [
    "r = requests.get(url_fields)  # Get response from the URL\n",
    "r.status_code  # Check the status code\n",
    "response = r.json()  # Convert response to JSON format\n",
    "response  # View JSON"
   ]
  },
  {
   "cell_type": "markdown",
   "metadata": {},
   "source": [
    "We can see that this response return a nested JSON file. This one is harder to access,but luckily there is a library we can use to unpack the JSON. For complex nested JSON files we use the `json_normalize` function in `pandas` (https://pandas.pydata.org/pandas-docs/stable/reference/api/pandas.io.json.json_normalize.html)."
   ]
  },
  {
   "cell_type": "code",
   "execution_count": 20,
   "metadata": {},
   "outputs": [
    {
     "data": {
      "text/html": [
       "<div>\n",
       "<style scoped>\n",
       "    .dataframe tbody tr th:only-of-type {\n",
       "        vertical-align: middle;\n",
       "    }\n",
       "\n",
       "    .dataframe tbody tr th {\n",
       "        vertical-align: top;\n",
       "    }\n",
       "\n",
       "    .dataframe thead th {\n",
       "        text-align: right;\n",
       "    }\n",
       "</style>\n",
       "<table border=\"1\" class=\"dataframe\">\n",
       "  <thead>\n",
       "    <tr style=\"text-align: right;\">\n",
       "      <th></th>\n",
       "      <th>patent_id</th>\n",
       "      <th>patent_title</th>\n",
       "      <th>applications</th>\n",
       "      <th>uspcs</th>\n",
       "    </tr>\n",
       "  </thead>\n",
       "  <tbody>\n",
       "    <tr>\n",
       "      <th>0</th>\n",
       "      <td>4200770</td>\n",
       "      <td>Cryptographic apparatus and method</td>\n",
       "      <td>[{'app_date': '1977-09-06', 'app_id': '05/8307...</td>\n",
       "      <td>[{'uspc_mainclass_title': 'Cryptography'}, {'u...</td>\n",
       "    </tr>\n",
       "    <tr>\n",
       "      <th>1</th>\n",
       "      <td>4214918</td>\n",
       "      <td>Method of forming polycrystalline semiconducto...</td>\n",
       "      <td>[{'app_date': '1978-10-12', 'app_id': '05/9508...</td>\n",
       "      <td>[{'uspc_mainclass_title': 'Metal treatment'}, ...</td>\n",
       "    </tr>\n",
       "    <tr>\n",
       "      <th>2</th>\n",
       "      <td>4233671</td>\n",
       "      <td>Read only memory and integrated circuit and me...</td>\n",
       "      <td>[{'app_date': '1979-01-05', 'app_id': '06/0013...</td>\n",
       "      <td>[{'uspc_mainclass_title': 'Active solid-state ...</td>\n",
       "    </tr>\n",
       "    <tr>\n",
       "      <th>3</th>\n",
       "      <td>4234352</td>\n",
       "      <td>Thermophotovoltaic converter and cell for use ...</td>\n",
       "      <td>[{'app_date': '1978-07-26', 'app_id': '05/9281...</td>\n",
       "      <td>[{'uspc_mainclass_title': 'Batteries:  thermoe...</td>\n",
       "    </tr>\n",
       "    <tr>\n",
       "      <th>4</th>\n",
       "      <td>4325611</td>\n",
       "      <td>Electrochromic material and electro-optical di...</td>\n",
       "      <td>[{'app_date': '1979-12-26', 'app_id': '06/1065...</td>\n",
       "      <td>[{'uspc_mainclass_title': 'Compositions'}, {'u...</td>\n",
       "    </tr>\n",
       "  </tbody>\n",
       "</table>\n",
       "</div>"
      ],
      "text/plain": [
       "  patent_id                                       patent_title  \\\n",
       "0   4200770                 Cryptographic apparatus and method   \n",
       "1   4214918  Method of forming polycrystalline semiconducto...   \n",
       "2   4233671  Read only memory and integrated circuit and me...   \n",
       "3   4234352  Thermophotovoltaic converter and cell for use ...   \n",
       "4   4325611  Electrochromic material and electro-optical di...   \n",
       "\n",
       "                                        applications  \\\n",
       "0  [{'app_date': '1977-09-06', 'app_id': '05/8307...   \n",
       "1  [{'app_date': '1978-10-12', 'app_id': '05/9508...   \n",
       "2  [{'app_date': '1979-01-05', 'app_id': '06/0013...   \n",
       "3  [{'app_date': '1978-07-26', 'app_id': '05/9281...   \n",
       "4  [{'app_date': '1979-12-26', 'app_id': '06/1065...   \n",
       "\n",
       "                                               uspcs  \n",
       "0  [{'uspc_mainclass_title': 'Cryptography'}, {'u...  \n",
       "1  [{'uspc_mainclass_title': 'Metal treatment'}, ...  \n",
       "2  [{'uspc_mainclass_title': 'Active solid-state ...  \n",
       "3  [{'uspc_mainclass_title': 'Batteries:  thermoe...  \n",
       "4  [{'uspc_mainclass_title': 'Compositions'}, {'u...  "
      ]
     },
     "execution_count": 20,
     "metadata": {},
     "output_type": "execute_result"
    }
   ],
   "source": [
    "# Unpack the patents key\n",
    "json_normalize(response['patents']).head()"
   ]
  },
  {
   "cell_type": "markdown",
   "metadata": {},
   "source": [
    "We can now see the `patent_id`, `patent_title`, but we still need to \n",
    "break down `applications` and `uspcs` further. For that, we will specify the `record_path`."
   ]
  },
  {
   "cell_type": "code",
   "execution_count": 21,
   "metadata": {},
   "outputs": [
    {
     "data": {
      "text/html": [
       "<div>\n",
       "<style scoped>\n",
       "    .dataframe tbody tr th:only-of-type {\n",
       "        vertical-align: middle;\n",
       "    }\n",
       "\n",
       "    .dataframe tbody tr th {\n",
       "        vertical-align: top;\n",
       "    }\n",
       "\n",
       "    .dataframe thead th {\n",
       "        text-align: right;\n",
       "    }\n",
       "</style>\n",
       "<table border=\"1\" class=\"dataframe\">\n",
       "  <thead>\n",
       "    <tr style=\"text-align: right;\">\n",
       "      <th></th>\n",
       "      <th>app_date</th>\n",
       "      <th>app_id</th>\n",
       "    </tr>\n",
       "  </thead>\n",
       "  <tbody>\n",
       "    <tr>\n",
       "      <th>0</th>\n",
       "      <td>1977-09-06</td>\n",
       "      <td>05/830754</td>\n",
       "    </tr>\n",
       "    <tr>\n",
       "      <th>1</th>\n",
       "      <td>1978-10-12</td>\n",
       "      <td>05/950828</td>\n",
       "    </tr>\n",
       "    <tr>\n",
       "      <th>2</th>\n",
       "      <td>1979-01-05</td>\n",
       "      <td>06/001360</td>\n",
       "    </tr>\n",
       "    <tr>\n",
       "      <th>3</th>\n",
       "      <td>1978-07-26</td>\n",
       "      <td>05/928103</td>\n",
       "    </tr>\n",
       "    <tr>\n",
       "      <th>4</th>\n",
       "      <td>1979-12-26</td>\n",
       "      <td>06/106547</td>\n",
       "    </tr>\n",
       "  </tbody>\n",
       "</table>\n",
       "</div>"
      ],
      "text/plain": [
       "     app_date     app_id\n",
       "0  1977-09-06  05/830754\n",
       "1  1978-10-12  05/950828\n",
       "2  1979-01-05  06/001360\n",
       "3  1978-07-26  05/928103\n",
       "4  1979-12-26  06/106547"
      ]
     },
     "execution_count": 21,
     "metadata": {},
     "output_type": "execute_result"
    }
   ],
   "source": [
    "# First, specify the record path for the applications\n",
    "json_normalize(response['patents'], record_path='applications').head()"
   ]
  },
  {
   "cell_type": "markdown",
   "metadata": {},
   "source": [
    "It shows us the values of the `applications` key, but we also want to know the associated `patent_id` and `patent_title`. We can specify those variables using the `meta` argument."
   ]
  },
  {
   "cell_type": "code",
   "execution_count": 22,
   "metadata": {},
   "outputs": [
    {
     "data": {
      "text/html": [
       "<div>\n",
       "<style scoped>\n",
       "    .dataframe tbody tr th:only-of-type {\n",
       "        vertical-align: middle;\n",
       "    }\n",
       "\n",
       "    .dataframe tbody tr th {\n",
       "        vertical-align: top;\n",
       "    }\n",
       "\n",
       "    .dataframe thead th {\n",
       "        text-align: right;\n",
       "    }\n",
       "</style>\n",
       "<table border=\"1\" class=\"dataframe\">\n",
       "  <thead>\n",
       "    <tr style=\"text-align: right;\">\n",
       "      <th></th>\n",
       "      <th>app_date</th>\n",
       "      <th>app_id</th>\n",
       "      <th>patent_id</th>\n",
       "      <th>patent_title</th>\n",
       "    </tr>\n",
       "  </thead>\n",
       "  <tbody>\n",
       "    <tr>\n",
       "      <th>0</th>\n",
       "      <td>1977-09-06</td>\n",
       "      <td>05/830754</td>\n",
       "      <td>4200770</td>\n",
       "      <td>Cryptographic apparatus and method</td>\n",
       "    </tr>\n",
       "    <tr>\n",
       "      <th>1</th>\n",
       "      <td>1978-10-12</td>\n",
       "      <td>05/950828</td>\n",
       "      <td>4214918</td>\n",
       "      <td>Method of forming polycrystalline semiconducto...</td>\n",
       "    </tr>\n",
       "    <tr>\n",
       "      <th>2</th>\n",
       "      <td>1979-01-05</td>\n",
       "      <td>06/001360</td>\n",
       "      <td>4233671</td>\n",
       "      <td>Read only memory and integrated circuit and me...</td>\n",
       "    </tr>\n",
       "    <tr>\n",
       "      <th>3</th>\n",
       "      <td>1978-07-26</td>\n",
       "      <td>05/928103</td>\n",
       "      <td>4234352</td>\n",
       "      <td>Thermophotovoltaic converter and cell for use ...</td>\n",
       "    </tr>\n",
       "    <tr>\n",
       "      <th>4</th>\n",
       "      <td>1979-12-26</td>\n",
       "      <td>06/106547</td>\n",
       "      <td>4325611</td>\n",
       "      <td>Electrochromic material and electro-optical di...</td>\n",
       "    </tr>\n",
       "  </tbody>\n",
       "</table>\n",
       "</div>"
      ],
      "text/plain": [
       "     app_date     app_id patent_id  \\\n",
       "0  1977-09-06  05/830754   4200770   \n",
       "1  1978-10-12  05/950828   4214918   \n",
       "2  1979-01-05  06/001360   4233671   \n",
       "3  1978-07-26  05/928103   4234352   \n",
       "4  1979-12-26  06/106547   4325611   \n",
       "\n",
       "                                        patent_title  \n",
       "0                 Cryptographic apparatus and method  \n",
       "1  Method of forming polycrystalline semiconducto...  \n",
       "2  Read only memory and integrated circuit and me...  \n",
       "3  Thermophotovoltaic converter and cell for use ...  \n",
       "4  Electrochromic material and electro-optical di...  "
      ]
     },
     "execution_count": 22,
     "metadata": {},
     "output_type": "execute_result"
    }
   ],
   "source": [
    "json_normalize(response['patents'], record_path='applications', meta=['patent_id','patent_title']).head()"
   ]
  },
  {
   "cell_type": "code",
   "execution_count": 23,
   "metadata": {},
   "outputs": [],
   "source": [
    "# Save result in dataframe\n",
    "patent_app_date = (json_normalize(response['patents'], record_path='applications', \n",
    "                                  meta=['patent_id','patent_title']))"
   ]
  },
  {
   "cell_type": "code",
   "execution_count": 24,
   "metadata": {},
   "outputs": [],
   "source": [
    "# repeat the process for the uspcs key and save it into another dataframe\n",
    "patent_class = (json_normalize(response['patents'], record_path='uspcs', \n",
    "                               meta=['patent_id','patent_title']))"
   ]
  },
  {
   "cell_type": "markdown",
   "metadata": {},
   "source": [
    "Now we can merge the two tables on `patent_id` and `patent_title` to get a complete table with the application date and the patent class."
   ]
  },
  {
   "cell_type": "code",
   "execution_count": 25,
   "metadata": {},
   "outputs": [
    {
     "data": {
      "text/html": [
       "<div>\n",
       "<style scoped>\n",
       "    .dataframe tbody tr th:only-of-type {\n",
       "        vertical-align: middle;\n",
       "    }\n",
       "\n",
       "    .dataframe tbody tr th {\n",
       "        vertical-align: top;\n",
       "    }\n",
       "\n",
       "    .dataframe thead th {\n",
       "        text-align: right;\n",
       "    }\n",
       "</style>\n",
       "<table border=\"1\" class=\"dataframe\">\n",
       "  <thead>\n",
       "    <tr style=\"text-align: right;\">\n",
       "      <th></th>\n",
       "      <th>uspc_mainclass_title</th>\n",
       "      <th>patent_id</th>\n",
       "      <th>patent_title</th>\n",
       "      <th>app_date</th>\n",
       "      <th>app_id</th>\n",
       "    </tr>\n",
       "  </thead>\n",
       "  <tbody>\n",
       "    <tr>\n",
       "      <th>0</th>\n",
       "      <td>Cryptography</td>\n",
       "      <td>4200770</td>\n",
       "      <td>Cryptographic apparatus and method</td>\n",
       "      <td>1977-09-06</td>\n",
       "      <td>05/830754</td>\n",
       "    </tr>\n",
       "    <tr>\n",
       "      <th>1</th>\n",
       "      <td>Electrical computers and digital processing sy...</td>\n",
       "      <td>4200770</td>\n",
       "      <td>Cryptographic apparatus and method</td>\n",
       "      <td>1977-09-06</td>\n",
       "      <td>05/830754</td>\n",
       "    </tr>\n",
       "    <tr>\n",
       "      <th>2</th>\n",
       "      <td>Metal treatment</td>\n",
       "      <td>4214918</td>\n",
       "      <td>Method of forming polycrystalline semiconducto...</td>\n",
       "      <td>1978-10-12</td>\n",
       "      <td>05/950828</td>\n",
       "    </tr>\n",
       "    <tr>\n",
       "      <th>3</th>\n",
       "      <td>Electric heating</td>\n",
       "      <td>4214918</td>\n",
       "      <td>Method of forming polycrystalline semiconducto...</td>\n",
       "      <td>1978-10-12</td>\n",
       "      <td>05/950828</td>\n",
       "    </tr>\n",
       "    <tr>\n",
       "      <th>4</th>\n",
       "      <td>Active solid-state devices (e.g., transistors,...</td>\n",
       "      <td>4214918</td>\n",
       "      <td>Method of forming polycrystalline semiconducto...</td>\n",
       "      <td>1978-10-12</td>\n",
       "      <td>05/950828</td>\n",
       "    </tr>\n",
       "    <tr>\n",
       "      <th>5</th>\n",
       "      <td>Coating processes</td>\n",
       "      <td>4214918</td>\n",
       "      <td>Method of forming polycrystalline semiconducto...</td>\n",
       "      <td>1978-10-12</td>\n",
       "      <td>05/950828</td>\n",
       "    </tr>\n",
       "    <tr>\n",
       "      <th>6</th>\n",
       "      <td>Semiconductor device manufacturing: process</td>\n",
       "      <td>4214918</td>\n",
       "      <td>Method of forming polycrystalline semiconducto...</td>\n",
       "      <td>1978-10-12</td>\n",
       "      <td>05/950828</td>\n",
       "    </tr>\n",
       "    <tr>\n",
       "      <th>7</th>\n",
       "      <td>Active solid-state devices (e.g., transistors,...</td>\n",
       "      <td>4233671</td>\n",
       "      <td>Read only memory and integrated circuit and me...</td>\n",
       "      <td>1979-01-05</td>\n",
       "      <td>06/001360</td>\n",
       "    </tr>\n",
       "    <tr>\n",
       "      <th>8</th>\n",
       "      <td>Miscellaneous active electrical nonlinear devi...</td>\n",
       "      <td>4233671</td>\n",
       "      <td>Read only memory and integrated circuit and me...</td>\n",
       "      <td>1979-01-05</td>\n",
       "      <td>06/001360</td>\n",
       "    </tr>\n",
       "    <tr>\n",
       "      <th>9</th>\n",
       "      <td>Static information storage and retrieval</td>\n",
       "      <td>4233671</td>\n",
       "      <td>Read only memory and integrated circuit and me...</td>\n",
       "      <td>1979-01-05</td>\n",
       "      <td>06/001360</td>\n",
       "    </tr>\n",
       "    <tr>\n",
       "      <th>10</th>\n",
       "      <td>Semiconductor device manufacturing: process</td>\n",
       "      <td>4233671</td>\n",
       "      <td>Read only memory and integrated circuit and me...</td>\n",
       "      <td>1979-01-05</td>\n",
       "      <td>06/001360</td>\n",
       "    </tr>\n",
       "    <tr>\n",
       "      <th>11</th>\n",
       "      <td>Batteries:  thermoelectric and photoelectric</td>\n",
       "      <td>4234352</td>\n",
       "      <td>Thermophotovoltaic converter and cell for use ...</td>\n",
       "      <td>1978-07-26</td>\n",
       "      <td>05/928103</td>\n",
       "    </tr>\n",
       "    <tr>\n",
       "      <th>12</th>\n",
       "      <td>Active solid-state devices (e.g., transistors,...</td>\n",
       "      <td>4234352</td>\n",
       "      <td>Thermophotovoltaic converter and cell for use ...</td>\n",
       "      <td>1978-07-26</td>\n",
       "      <td>05/928103</td>\n",
       "    </tr>\n",
       "    <tr>\n",
       "      <th>13</th>\n",
       "      <td>Compositions</td>\n",
       "      <td>4325611</td>\n",
       "      <td>Electrochromic material and electro-optical di...</td>\n",
       "      <td>1979-12-26</td>\n",
       "      <td>06/106547</td>\n",
       "    </tr>\n",
       "    <tr>\n",
       "      <th>14</th>\n",
       "      <td>Optical: systems and elements</td>\n",
       "      <td>4325611</td>\n",
       "      <td>Electrochromic material and electro-optical di...</td>\n",
       "      <td>1979-12-26</td>\n",
       "      <td>06/106547</td>\n",
       "    </tr>\n",
       "    <tr>\n",
       "      <th>15</th>\n",
       "      <td>Communications:  electrical</td>\n",
       "      <td>4379697</td>\n",
       "      <td>Stimulator array</td>\n",
       "      <td>1981-10-16</td>\n",
       "      <td>06/312094</td>\n",
       "    </tr>\n",
       "    <tr>\n",
       "      <th>16</th>\n",
       "      <td>Education and demonstration</td>\n",
       "      <td>4379697</td>\n",
       "      <td>Stimulator array</td>\n",
       "      <td>1981-10-16</td>\n",
       "      <td>06/312094</td>\n",
       "    </tr>\n",
       "    <tr>\n",
       "      <th>17</th>\n",
       "      <td>Coherent light generators</td>\n",
       "      <td>4380072</td>\n",
       "      <td>XUV Laser and method</td>\n",
       "      <td>1980-12-22</td>\n",
       "      <td>06/218781</td>\n",
       "    </tr>\n",
       "    <tr>\n",
       "      <th>18</th>\n",
       "      <td>Chemistry:  electrical and wave energy</td>\n",
       "      <td>4404068</td>\n",
       "      <td>Solid state method for synthesis reactions</td>\n",
       "      <td>1981-04-29</td>\n",
       "      <td>06/258656</td>\n",
       "    </tr>\n",
       "    <tr>\n",
       "      <th>19</th>\n",
       "      <td>Electrolysis:  processes, compositions used th...</td>\n",
       "      <td>4404068</td>\n",
       "      <td>Solid state method for synthesis reactions</td>\n",
       "      <td>1981-04-29</td>\n",
       "      <td>06/258656</td>\n",
       "    </tr>\n",
       "    <tr>\n",
       "      <th>20</th>\n",
       "      <td>Chemistry of hydrocarbon compounds</td>\n",
       "      <td>4404068</td>\n",
       "      <td>Solid state method for synthesis reactions</td>\n",
       "      <td>1981-04-29</td>\n",
       "      <td>06/258656</td>\n",
       "    </tr>\n",
       "    <tr>\n",
       "      <th>21</th>\n",
       "      <td>Chemistry: molecular biology and microbiology</td>\n",
       "      <td>4442206</td>\n",
       "      <td>Method of using isotropic, porous-wall polymer...</td>\n",
       "      <td>1983-05-04</td>\n",
       "      <td>06/489609</td>\n",
       "    </tr>\n",
       "    <tr>\n",
       "      <th>22</th>\n",
       "      <td>Chemistry:  natural resins or derivatives; pep...</td>\n",
       "      <td>4442206</td>\n",
       "      <td>Method of using isotropic, porous-wall polymer...</td>\n",
       "      <td>1983-05-04</td>\n",
       "      <td>06/489609</td>\n",
       "    </tr>\n",
       "    <tr>\n",
       "      <th>23</th>\n",
       "      <td>Electrical resistors</td>\n",
       "      <td>4471647</td>\n",
       "      <td>Gas chromatography system and detector and method</td>\n",
       "      <td>1982-03-22</td>\n",
       "      <td>06/360414</td>\n",
       "    </tr>\n",
       "    <tr>\n",
       "      <th>24</th>\n",
       "      <td>Thermal measuring and testing</td>\n",
       "      <td>4471647</td>\n",
       "      <td>Gas chromatography system and detector and method</td>\n",
       "      <td>1982-03-22</td>\n",
       "      <td>06/360414</td>\n",
       "    </tr>\n",
       "    <tr>\n",
       "      <th>25</th>\n",
       "      <td>Measuring and testing</td>\n",
       "      <td>4471647</td>\n",
       "      <td>Gas chromatography system and detector and method</td>\n",
       "      <td>1982-03-22</td>\n",
       "      <td>06/360414</td>\n",
       "    </tr>\n",
       "    <tr>\n",
       "      <th>26</th>\n",
       "      <td>Electrical generator or motor structure</td>\n",
       "      <td>4491760</td>\n",
       "      <td>Force sensing polymer piezoelectric transducer...</td>\n",
       "      <td>1983-03-29</td>\n",
       "      <td>06/480025</td>\n",
       "    </tr>\n",
       "    <tr>\n",
       "      <th>27</th>\n",
       "      <td>Measuring and testing</td>\n",
       "      <td>4491760</td>\n",
       "      <td>Force sensing polymer piezoelectric transducer...</td>\n",
       "      <td>1983-03-29</td>\n",
       "      <td>06/480025</td>\n",
       "    </tr>\n",
       "    <tr>\n",
       "      <th>28</th>\n",
       "      <td>Multiplex communications</td>\n",
       "      <td>4503533</td>\n",
       "      <td>Local area communication network utilizing a r...</td>\n",
       "      <td>1981-08-20</td>\n",
       "      <td>06/294745</td>\n",
       "    </tr>\n",
       "    <tr>\n",
       "      <th>29</th>\n",
       "      <td>Television</td>\n",
       "      <td>4662379</td>\n",
       "      <td>Coronary artery imaging system using gated tom...</td>\n",
       "      <td>1986-08-27</td>\n",
       "      <td>06/902086</td>\n",
       "    </tr>\n",
       "    <tr>\n",
       "      <th>30</th>\n",
       "      <td>X-ray or gamma ray systems or devices</td>\n",
       "      <td>4662379</td>\n",
       "      <td>Coronary artery imaging system using gated tom...</td>\n",
       "      <td>1986-08-27</td>\n",
       "      <td>06/902086</td>\n",
       "    </tr>\n",
       "    <tr>\n",
       "      <th>31</th>\n",
       "      <td>Surgery</td>\n",
       "      <td>4662379</td>\n",
       "      <td>Coronary artery imaging system using gated tom...</td>\n",
       "      <td>1986-08-27</td>\n",
       "      <td>06/902086</td>\n",
       "    </tr>\n",
       "    <tr>\n",
       "      <th>32</th>\n",
       "      <td>Error detection/correction and fault detection...</td>\n",
       "      <td>4665523</td>\n",
       "      <td>Method and means for error detection and corre...</td>\n",
       "      <td>1984-02-15</td>\n",
       "      <td>06/580470</td>\n",
       "    </tr>\n",
       "    <tr>\n",
       "      <th>33</th>\n",
       "      <td>Metal treatment</td>\n",
       "      <td>4665610</td>\n",
       "      <td>Method of making a semiconductor transducer ha...</td>\n",
       "      <td>1985-04-22</td>\n",
       "      <td>06/725984</td>\n",
       "    </tr>\n",
       "    <tr>\n",
       "      <th>34</th>\n",
       "      <td>Active solid-state devices (e.g., transistors,...</td>\n",
       "      <td>4665610</td>\n",
       "      <td>Method of making a semiconductor transducer ha...</td>\n",
       "      <td>1985-04-22</td>\n",
       "      <td>06/725984</td>\n",
       "    </tr>\n",
       "    <tr>\n",
       "      <th>35</th>\n",
       "      <td>Semiconductor device manufacturing: process</td>\n",
       "      <td>4665610</td>\n",
       "      <td>Method of making a semiconductor transducer ha...</td>\n",
       "      <td>1985-04-22</td>\n",
       "      <td>06/725984</td>\n",
       "    </tr>\n",
       "    <tr>\n",
       "      <th>36</th>\n",
       "      <td>Measuring and testing</td>\n",
       "      <td>4665610</td>\n",
       "      <td>Method of making a semiconductor transducer ha...</td>\n",
       "      <td>1985-04-22</td>\n",
       "      <td>06/725984</td>\n",
       "    </tr>\n",
       "    <tr>\n",
       "      <th>37</th>\n",
       "      <td>Optics:  measuring and testing</td>\n",
       "      <td>4666308</td>\n",
       "      <td>Method and apparatus for non-destructive testi...</td>\n",
       "      <td>1984-10-30</td>\n",
       "      <td>06/666354</td>\n",
       "    </tr>\n",
       "    <tr>\n",
       "      <th>38</th>\n",
       "      <td>Optical: systems and elements</td>\n",
       "      <td>4666308</td>\n",
       "      <td>Method and apparatus for non-destructive testi...</td>\n",
       "      <td>1984-10-30</td>\n",
       "      <td>06/666354</td>\n",
       "    </tr>\n",
       "    <tr>\n",
       "      <th>39</th>\n",
       "      <td>Electricity:  measuring and testing</td>\n",
       "      <td>4672319</td>\n",
       "      <td>Multiple pulse excitation in NMR imaging</td>\n",
       "      <td>1984-09-19</td>\n",
       "      <td>06/652139</td>\n",
       "    </tr>\n",
       "    <tr>\n",
       "      <th>40</th>\n",
       "      <td>Optical: systems and elements</td>\n",
       "      <td>4674824</td>\n",
       "      <td>System for enhancement of optical features</td>\n",
       "      <td>1985-06-14</td>\n",
       "      <td>06/745312</td>\n",
       "    </tr>\n",
       "    <tr>\n",
       "      <th>41</th>\n",
       "      <td>Electricity:  measuring and testing</td>\n",
       "      <td>4681449</td>\n",
       "      <td>High speed testing of electronic circuits by e...</td>\n",
       "      <td>1984-09-07</td>\n",
       "      <td>06/648456</td>\n",
       "    </tr>\n",
       "    <tr>\n",
       "      <th>42</th>\n",
       "      <td>Optics:  measuring and testing</td>\n",
       "      <td>4681449</td>\n",
       "      <td>High speed testing of electronic circuits by e...</td>\n",
       "      <td>1984-09-07</td>\n",
       "      <td>06/648456</td>\n",
       "    </tr>\n",
       "    <tr>\n",
       "      <th>43</th>\n",
       "      <td>Radiant energy</td>\n",
       "      <td>4699513</td>\n",
       "      <td>Distributed sensor and method using coherence ...</td>\n",
       "      <td>1985-05-28</td>\n",
       "      <td>06/738678</td>\n",
       "    </tr>\n",
       "    <tr>\n",
       "      <th>44</th>\n",
       "      <td>Optics:  measuring and testing</td>\n",
       "      <td>4699513</td>\n",
       "      <td>Distributed sensor and method using coherence ...</td>\n",
       "      <td>1985-05-28</td>\n",
       "      <td>06/738678</td>\n",
       "    </tr>\n",
       "    <tr>\n",
       "      <th>45</th>\n",
       "      <td>Electronic funds transfer</td>\n",
       "      <td>4699513</td>\n",
       "      <td>Distributed sensor and method using coherence ...</td>\n",
       "      <td>1985-05-28</td>\n",
       "      <td>06/738678</td>\n",
       "    </tr>\n",
       "    <tr>\n",
       "      <th>46</th>\n",
       "      <td>Optical: systems and elements</td>\n",
       "      <td>4700150</td>\n",
       "      <td>External laser frequency stabilizer</td>\n",
       "      <td>1985-06-14</td>\n",
       "      <td>06/745309</td>\n",
       "    </tr>\n",
       "    <tr>\n",
       "      <th>47</th>\n",
       "      <td>Coherent light generators</td>\n",
       "      <td>4700150</td>\n",
       "      <td>External laser frequency stabilizer</td>\n",
       "      <td>1985-06-14</td>\n",
       "      <td>06/745309</td>\n",
       "    </tr>\n",
       "    <tr>\n",
       "      <th>48</th>\n",
       "      <td>Optical: systems and elements</td>\n",
       "      <td>4701006</td>\n",
       "      <td>Optical-digital hologram recording</td>\n",
       "      <td>1985-02-20</td>\n",
       "      <td>06/703521</td>\n",
       "    </tr>\n",
       "    <tr>\n",
       "      <th>49</th>\n",
       "      <td>Optics:  measuring and testing</td>\n",
       "      <td>4707136</td>\n",
       "      <td>Gated fiber optic rotation sensor with lineari...</td>\n",
       "      <td>1984-02-17</td>\n",
       "      <td>06/581303</td>\n",
       "    </tr>\n",
       "    <tr>\n",
       "      <th>50</th>\n",
       "      <td>Electricity:  measuring and testing</td>\n",
       "      <td>4718424</td>\n",
       "      <td>NMR imaging of blood flow by moment variation ...</td>\n",
       "      <td>1986-08-07</td>\n",
       "      <td>06/894318</td>\n",
       "    </tr>\n",
       "    <tr>\n",
       "      <th>51</th>\n",
       "      <td>Surgery</td>\n",
       "      <td>4718424</td>\n",
       "      <td>NMR imaging of blood flow by moment variation ...</td>\n",
       "      <td>1986-08-07</td>\n",
       "      <td>06/894318</td>\n",
       "    </tr>\n",
       "    <tr>\n",
       "      <th>52</th>\n",
       "      <td>Optics:  measuring and testing</td>\n",
       "      <td>4728192</td>\n",
       "      <td>Gated fiber optic rotation sensor with extende...</td>\n",
       "      <td>1984-02-17</td>\n",
       "      <td>06/581304</td>\n",
       "    </tr>\n",
       "  </tbody>\n",
       "</table>\n",
       "</div>"
      ],
      "text/plain": [
       "                                 uspc_mainclass_title patent_id  \\\n",
       "0                                        Cryptography   4200770   \n",
       "1   Electrical computers and digital processing sy...   4200770   \n",
       "2                                     Metal treatment   4214918   \n",
       "3                                    Electric heating   4214918   \n",
       "4   Active solid-state devices (e.g., transistors,...   4214918   \n",
       "5                                   Coating processes   4214918   \n",
       "6         Semiconductor device manufacturing: process   4214918   \n",
       "7   Active solid-state devices (e.g., transistors,...   4233671   \n",
       "8   Miscellaneous active electrical nonlinear devi...   4233671   \n",
       "9            Static information storage and retrieval   4233671   \n",
       "10        Semiconductor device manufacturing: process   4233671   \n",
       "11       Batteries:  thermoelectric and photoelectric   4234352   \n",
       "12  Active solid-state devices (e.g., transistors,...   4234352   \n",
       "13                                       Compositions   4325611   \n",
       "14                      Optical: systems and elements   4325611   \n",
       "15                        Communications:  electrical   4379697   \n",
       "16                        Education and demonstration   4379697   \n",
       "17                          Coherent light generators   4380072   \n",
       "18             Chemistry:  electrical and wave energy   4404068   \n",
       "19  Electrolysis:  processes, compositions used th...   4404068   \n",
       "20                 Chemistry of hydrocarbon compounds   4404068   \n",
       "21      Chemistry: molecular biology and microbiology   4442206   \n",
       "22  Chemistry:  natural resins or derivatives; pep...   4442206   \n",
       "23                               Electrical resistors   4471647   \n",
       "24                      Thermal measuring and testing   4471647   \n",
       "25                              Measuring and testing   4471647   \n",
       "26            Electrical generator or motor structure   4491760   \n",
       "27                              Measuring and testing   4491760   \n",
       "28                           Multiplex communications   4503533   \n",
       "29                                         Television   4662379   \n",
       "30              X-ray or gamma ray systems or devices   4662379   \n",
       "31                                            Surgery   4662379   \n",
       "32  Error detection/correction and fault detection...   4665523   \n",
       "33                                    Metal treatment   4665610   \n",
       "34  Active solid-state devices (e.g., transistors,...   4665610   \n",
       "35        Semiconductor device manufacturing: process   4665610   \n",
       "36                              Measuring and testing   4665610   \n",
       "37                     Optics:  measuring and testing   4666308   \n",
       "38                      Optical: systems and elements   4666308   \n",
       "39                Electricity:  measuring and testing   4672319   \n",
       "40                      Optical: systems and elements   4674824   \n",
       "41                Electricity:  measuring and testing   4681449   \n",
       "42                     Optics:  measuring and testing   4681449   \n",
       "43                                     Radiant energy   4699513   \n",
       "44                     Optics:  measuring and testing   4699513   \n",
       "45                          Electronic funds transfer   4699513   \n",
       "46                      Optical: systems and elements   4700150   \n",
       "47                          Coherent light generators   4700150   \n",
       "48                      Optical: systems and elements   4701006   \n",
       "49                     Optics:  measuring and testing   4707136   \n",
       "50                Electricity:  measuring and testing   4718424   \n",
       "51                                            Surgery   4718424   \n",
       "52                     Optics:  measuring and testing   4728192   \n",
       "\n",
       "                                         patent_title    app_date     app_id  \n",
       "0                  Cryptographic apparatus and method  1977-09-06  05/830754  \n",
       "1                  Cryptographic apparatus and method  1977-09-06  05/830754  \n",
       "2   Method of forming polycrystalline semiconducto...  1978-10-12  05/950828  \n",
       "3   Method of forming polycrystalline semiconducto...  1978-10-12  05/950828  \n",
       "4   Method of forming polycrystalline semiconducto...  1978-10-12  05/950828  \n",
       "5   Method of forming polycrystalline semiconducto...  1978-10-12  05/950828  \n",
       "6   Method of forming polycrystalline semiconducto...  1978-10-12  05/950828  \n",
       "7   Read only memory and integrated circuit and me...  1979-01-05  06/001360  \n",
       "8   Read only memory and integrated circuit and me...  1979-01-05  06/001360  \n",
       "9   Read only memory and integrated circuit and me...  1979-01-05  06/001360  \n",
       "10  Read only memory and integrated circuit and me...  1979-01-05  06/001360  \n",
       "11  Thermophotovoltaic converter and cell for use ...  1978-07-26  05/928103  \n",
       "12  Thermophotovoltaic converter and cell for use ...  1978-07-26  05/928103  \n",
       "13  Electrochromic material and electro-optical di...  1979-12-26  06/106547  \n",
       "14  Electrochromic material and electro-optical di...  1979-12-26  06/106547  \n",
       "15                                   Stimulator array  1981-10-16  06/312094  \n",
       "16                                   Stimulator array  1981-10-16  06/312094  \n",
       "17                               XUV Laser and method  1980-12-22  06/218781  \n",
       "18         Solid state method for synthesis reactions  1981-04-29  06/258656  \n",
       "19         Solid state method for synthesis reactions  1981-04-29  06/258656  \n",
       "20         Solid state method for synthesis reactions  1981-04-29  06/258656  \n",
       "21  Method of using isotropic, porous-wall polymer...  1983-05-04  06/489609  \n",
       "22  Method of using isotropic, porous-wall polymer...  1983-05-04  06/489609  \n",
       "23  Gas chromatography system and detector and method  1982-03-22  06/360414  \n",
       "24  Gas chromatography system and detector and method  1982-03-22  06/360414  \n",
       "25  Gas chromatography system and detector and method  1982-03-22  06/360414  \n",
       "26  Force sensing polymer piezoelectric transducer...  1983-03-29  06/480025  \n",
       "27  Force sensing polymer piezoelectric transducer...  1983-03-29  06/480025  \n",
       "28  Local area communication network utilizing a r...  1981-08-20  06/294745  \n",
       "29  Coronary artery imaging system using gated tom...  1986-08-27  06/902086  \n",
       "30  Coronary artery imaging system using gated tom...  1986-08-27  06/902086  \n",
       "31  Coronary artery imaging system using gated tom...  1986-08-27  06/902086  \n",
       "32  Method and means for error detection and corre...  1984-02-15  06/580470  \n",
       "33  Method of making a semiconductor transducer ha...  1985-04-22  06/725984  \n",
       "34  Method of making a semiconductor transducer ha...  1985-04-22  06/725984  \n",
       "35  Method of making a semiconductor transducer ha...  1985-04-22  06/725984  \n",
       "36  Method of making a semiconductor transducer ha...  1985-04-22  06/725984  \n",
       "37  Method and apparatus for non-destructive testi...  1984-10-30  06/666354  \n",
       "38  Method and apparatus for non-destructive testi...  1984-10-30  06/666354  \n",
       "39           Multiple pulse excitation in NMR imaging  1984-09-19  06/652139  \n",
       "40         System for enhancement of optical features  1985-06-14  06/745312  \n",
       "41  High speed testing of electronic circuits by e...  1984-09-07  06/648456  \n",
       "42  High speed testing of electronic circuits by e...  1984-09-07  06/648456  \n",
       "43  Distributed sensor and method using coherence ...  1985-05-28  06/738678  \n",
       "44  Distributed sensor and method using coherence ...  1985-05-28  06/738678  \n",
       "45  Distributed sensor and method using coherence ...  1985-05-28  06/738678  \n",
       "46                External laser frequency stabilizer  1985-06-14  06/745309  \n",
       "47                External laser frequency stabilizer  1985-06-14  06/745309  \n",
       "48                 Optical-digital hologram recording  1985-02-20  06/703521  \n",
       "49  Gated fiber optic rotation sensor with lineari...  1984-02-17  06/581303  \n",
       "50  NMR imaging of blood flow by moment variation ...  1986-08-07  06/894318  \n",
       "51  NMR imaging of blood flow by moment variation ...  1986-08-07  06/894318  \n",
       "52  Gated fiber optic rotation sensor with extende...  1984-02-17  06/581304  "
      ]
     },
     "execution_count": 25,
     "metadata": {},
     "output_type": "execute_result"
    }
   ],
   "source": [
    "stanford_all = patent_class.merge(patent_app_date,on=['patent_id','patent_title'])\n",
    "stanford_all"
   ]
  },
  {
   "cell_type": "markdown",
   "metadata": {},
   "source": [
    "## Customize the number of results\n",
    "\n",
    "As you might have noticed, by default, only 25 results are returned in one request. To change the number of results returned (for example, 50 results), add the option parameter to the query URL: `&o={\"page\":1,\"per_page\":50}`. To get the second page, specify `&o={\"page\":2,\"per_page\":50)`."
   ]
  },
  {
   "cell_type": "code",
   "execution_count": 26,
   "metadata": {},
   "outputs": [],
   "source": [
    "# Increase the number of results that are returned\n",
    "url_page_1 = url_fields + '&o={\"page\":1,\"per_page\":50}'\n",
    "r = requests.get(url_page_1)\n",
    "r.status_code\n",
    "response_page_1 = r.json()"
   ]
  },
  {
   "cell_type": "markdown",
   "metadata": {},
   "source": [
    "Now the JSON shows 50 results (as noted in the variable `count`)."
   ]
  },
  {
   "cell_type": "code",
   "execution_count": 27,
   "metadata": {},
   "outputs": [
    {
     "data": {
      "text/plain": [
       "50"
      ]
     },
     "execution_count": 27,
     "metadata": {},
     "output_type": "execute_result"
    }
   ],
   "source": [
    "response_page_1['count']"
   ]
  },
  {
   "cell_type": "code",
   "execution_count": null,
   "metadata": {},
   "outputs": [],
   "source": []
  }
 ],
 "metadata": {
  "kernelspec": {
   "display_name": "Python 3",
   "language": "python",
   "name": "python3"
  },
  "language_info": {
   "codemirror_mode": {
    "name": "ipython",
    "version": 3
   },
   "file_extension": ".py",
   "mimetype": "text/x-python",
   "name": "python",
   "nbconvert_exporter": "python",
   "pygments_lexer": "ipython3",
   "version": "3.7.3"
  }
 },
 "nbformat": 4,
 "nbformat_minor": 4
}
